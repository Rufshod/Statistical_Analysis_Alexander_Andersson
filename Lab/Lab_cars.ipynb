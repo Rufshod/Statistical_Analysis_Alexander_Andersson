{
 "cells": [
  {
   "cell_type": "code",
   "execution_count": 67,
   "metadata": {},
   "outputs": [],
   "source": [
    "#Importing functions\n",
    "import pandas as pd\n",
    "\n",
    "import matplotlib.pyplot as plt\n",
    "import seaborn as sns\n",
    "import plotly as px\n",
    "\n",
    "import scipy.stats as scs\n",
    "from scipy.stats import t\n",
    "from scipy.stats import f\n",
    "from scipy.stats import norm\n",
    "import numpy as np\n",
    "\n",
    "import statsmodels.api as sm\n",
    "from statsmodels.formula.api import ols\n",
    "from Functions import func_rename, func_conversion\n",
    "\n",
    "sns.set_theme(style=\"ticks\") # Setting the theme for all plots\n"
   ]
  },
  {
   "attachments": {},
   "cell_type": "markdown",
   "metadata": {},
   "source": [
    "Attribute Information:\n",
    "\n",
    "    mpg: continuous\n",
    "    cylinders: multi-valued discrete\n",
    "    displacement: continuous\n",
    "    horsepower: continuous\n",
    "    weight: continuous\n",
    "    acceleration: continuous\n",
    "    model year: multi-valued discrete\n",
    "    origin: multi-valued discrete\n",
    "    car name: string (unique for each instance)\n",
    "\n",
    "Missing Attribute Values: horsepower has 6 missing values"
   ]
  },
  {
   "attachments": {},
   "cell_type": "markdown",
   "metadata": {},
   "source": [
    "After a already long day, I got an email from a client. \"Swedcar\"... They're a pretty new client so I dont really know what to expect.\n",
    "The email states that they would like to present a data set to their customer (Stures car AB) in order to sell their new fuel efficient motors.\n",
    "They want me to make the data set more \"appealing\" and make it more readable for a European demographic.\n",
    "\n",
    "Lets check the attached file Auto-mpg.csv\n",
    "\n",
    "Stures Car AB seems a bit stuck in the past so I'll have to make sure that my findings are sound. "
   ]
  },
  {
   "attachments": {},
   "cell_type": "markdown",
   "metadata": {},
   "source": [
    "First lets start with exploring / cleaning the data"
   ]
  },
  {
   "cell_type": "code",
   "execution_count": 68,
   "metadata": {},
   "outputs": [
    {
     "name": "stdout",
     "output_type": "stream",
     "text": [
      "lper100km        9.41\n",
      "cylinders           4\n",
      "displacement     98.0\n",
      "horsepower        NaN\n",
      "weight            928\n",
      "acceleration     19.0\n",
      "model_year         71\n",
      "origin            usa\n",
      "make             ford\n",
      "model           pinto\n",
      "Name: 32, dtype: object\n",
      "lper100km           11.2\n",
      "cylinders              6\n",
      "displacement       200.0\n",
      "horsepower           NaN\n",
      "weight              1304\n",
      "acceleration        17.0\n",
      "model_year            74\n",
      "origin               usa\n",
      "make                ford\n",
      "model           maverick\n",
      "Name: 126, dtype: object\n",
      "lper100km         9.05\n",
      "cylinders            4\n",
      "displacement     108.0\n",
      "horsepower        93.0\n",
      "weight            1085\n",
      "acceleration      15.5\n",
      "model_year          74\n",
      "origin           japan\n",
      "make            subaru\n",
      "model             None\n",
      "Name: 150, dtype: object\n",
      "lper100km               5.75\n",
      "cylinders                  4\n",
      "displacement            85.0\n",
      "horsepower               NaN\n",
      "weight                   832\n",
      "acceleration            17.3\n",
      "model_year                80\n",
      "origin                europe\n",
      "make                 renault\n",
      "model           lecar deluxe\n",
      "Name: 330, dtype: object\n",
      "lper100km                9.97\n",
      "cylinders                   4\n",
      "displacement            140.0\n",
      "horsepower                NaN\n",
      "weight                   1318\n",
      "acceleration             14.3\n",
      "model_year                 80\n",
      "origin                    usa\n",
      "make                     ford\n",
      "model           mustang cobra\n",
      "Name: 336, dtype: object\n",
      "lper100km         7.28\n",
      "cylinders            4\n",
      "displacement      97.0\n",
      "horsepower        67.0\n",
      "weight             937\n",
      "acceleration      17.8\n",
      "model_year          81\n",
      "origin           japan\n",
      "make            subaru\n",
      "model             None\n",
      "Name: 346, dtype: object\n",
      "lper100km          6.82\n",
      "cylinders             4\n",
      "displacement      100.0\n",
      "horsepower          NaN\n",
      "weight             1052\n",
      "acceleration       15.8\n",
      "model_year           81\n",
      "origin           europe\n",
      "make            renault\n",
      "model               18i\n",
      "Name: 354, dtype: object\n",
      "lper100km            10.23\n",
      "cylinders                4\n",
      "displacement         151.0\n",
      "horsepower             NaN\n",
      "weight                1377\n",
      "acceleration          20.5\n",
      "model_year              82\n",
      "origin                 usa\n",
      "make                   amc\n",
      "model           concord dl\n",
      "Name: 374, dtype: object\n"
     ]
    },
    {
     "name": "stderr",
     "output_type": "stream",
     "text": [
      "C:\\Users\\Agam\\AppData\\Local\\Temp\\ipykernel_16532\\2012474072.py:6: FutureWarning: In a future version of pandas all arguments of StringMethods.split except for the argument 'pat' will be keyword-only.\n",
      "  df[[\"name\", \"test\"]] = df[\"name\"].str.split(\" \", 1, expand=True)  # Creating a new column\n",
      "c:\\Users\\Agam\\Documents\\Github\\Statistical_Analysis_Alexander_Andersson\\Lab\\Functions.py:12: SettingWithCopyWarning: \n",
      "A value is trying to be set on a copy of a slice from a DataFrame\n",
      "\n",
      "See the caveats in the documentation: https://pandas.pydata.org/pandas-docs/stable/user_guide/indexing.html#returning-a-view-versus-a-copy\n",
      "  dataframe[column][p] = round(dataframe[column][p]*0.45359237) #Correct math for converting\n",
      "c:\\Users\\Agam\\Documents\\Github\\Statistical_Analysis_Alexander_Andersson\\Lab\\Functions.py:16: SettingWithCopyWarning: \n",
      "A value is trying to be set on a copy of a slice from a DataFrame\n",
      "\n",
      "See the caveats in the documentation: https://pandas.pydata.org/pandas-docs/stable/user_guide/indexing.html#returning-a-view-versus-a-copy\n",
      "  dataframe[column][p] = round(235.215 / dataframe[column][p],2) #Correct math for converting\n"
     ]
    }
   ],
   "source": [
    "# Importing and cleaning data\n",
    "filepath = \"../Lab/Data/cars.csv\" # Creating filepath\n",
    "df = pd.read_csv(filepath) # reading csv with pandas\n",
    "\n",
    "# Adding columns\n",
    "df[[\"name\", \"test\"]] = df[\"name\"].str.split(\" \", 1, expand=True)  # Creating a new column\n",
    "df.rename(columns={\"name\": \"make\", \"test\": \"model\", \"mpg\": \"lper100km\"}, inplace=True) # Renaming columns\n",
    "cars = df # Creating a new dataframe\n",
    "\n",
    "# Handling spelling mistakes:\n",
    "#   The spelling mistakes were found by manually looking through the data.\n",
    "#   func_rename can be found in the Functions.py file \n",
    "func_rename(cars,\"vw\",\"volkswagen\"), func_rename(cars,\"vokswagen\",\"volkswagen\") \n",
    "func_rename(cars,\"chevy\",\"chevrolet\"), func_rename(cars,\"chevroelt\",\"chevrolet\")\n",
    "func_rename(cars,\"maxda\",\"mazda\"), func_rename(cars,\"toyouta\", \"toyota\")\n",
    "func_rename(cars,\"mercedes-benz\", \"mercedes\"),\n",
    "\n",
    "# Converting the weight and miles per gallon into the metric system.\n",
    "#  func_conversion can be found in the Functions.py file\n",
    "func_conversion(cars, \"weight\")\n",
    "func_conversion(cars, \"lper100km\")\n",
    "\n",
    "# Lets check if any data is missing.\n",
    "cars.isna().sum()\n",
    "np.where(cars.isna().any(axis=1)) # Checking for nans. \n",
    "nanlist =  [32, 126, 150, 330, 336, 346, 354, 374] # The indexes for nan values.\n",
    "for i in range(len(nanlist)):\n",
    "    print(cars.iloc[nanlist[i]]) # Simple forloop to print out all nan rows.\n",
    "\n",
    "#Total NaNs in dataframe is 8. 8/len(cars) ~ 2 %\n",
    "# I find it acceptable to drop NaNs due to the value being so low. Would it be higher I would have to fill the data with the mean or ask the client for a complete sample\n",
    "\n",
    "cars.dropna(inplace=True)"
   ]
  },
  {
   "attachments": {},
   "cell_type": "markdown",
   "metadata": {},
   "source": [
    "Now with the data cleaned and imperial mesuarments converted into metric for a European demographic I'll start exploring the data."
   ]
  },
  {
   "cell_type": "code",
   "execution_count": 69,
   "metadata": {},
   "outputs": [
    {
     "data": {
      "text/html": [
       "<div>\n",
       "<style scoped>\n",
       "    .dataframe tbody tr th:only-of-type {\n",
       "        vertical-align: middle;\n",
       "    }\n",
       "\n",
       "    .dataframe tbody tr th {\n",
       "        vertical-align: top;\n",
       "    }\n",
       "\n",
       "    .dataframe thead th {\n",
       "        text-align: right;\n",
       "    }\n",
       "</style>\n",
       "<table border=\"1\" class=\"dataframe\">\n",
       "  <thead>\n",
       "    <tr style=\"text-align: right;\">\n",
       "      <th></th>\n",
       "      <th>lper100km</th>\n",
       "      <th>cylinders</th>\n",
       "      <th>displacement</th>\n",
       "      <th>horsepower</th>\n",
       "      <th>weight</th>\n",
       "      <th>acceleration</th>\n",
       "      <th>model_year</th>\n",
       "    </tr>\n",
       "  </thead>\n",
       "  <tbody>\n",
       "    <tr>\n",
       "      <th>count</th>\n",
       "      <td>390.000000</td>\n",
       "      <td>390.000000</td>\n",
       "      <td>390.000000</td>\n",
       "      <td>390.000000</td>\n",
       "      <td>390.000000</td>\n",
       "      <td>390.000000</td>\n",
       "      <td>390.000000</td>\n",
       "    </tr>\n",
       "    <tr>\n",
       "      <th>mean</th>\n",
       "      <td>11.264231</td>\n",
       "      <td>5.479487</td>\n",
       "      <td>194.883333</td>\n",
       "      <td>104.594872</td>\n",
       "      <td>1352.356410</td>\n",
       "      <td>15.535641</td>\n",
       "      <td>75.971795</td>\n",
       "    </tr>\n",
       "    <tr>\n",
       "      <th>std</th>\n",
       "      <td>3.916624</td>\n",
       "      <td>1.706886</td>\n",
       "      <td>104.703657</td>\n",
       "      <td>38.538599</td>\n",
       "      <td>385.463663</td>\n",
       "      <td>2.763569</td>\n",
       "      <td>3.683036</td>\n",
       "    </tr>\n",
       "    <tr>\n",
       "      <th>min</th>\n",
       "      <td>5.050000</td>\n",
       "      <td>3.000000</td>\n",
       "      <td>68.000000</td>\n",
       "      <td>46.000000</td>\n",
       "      <td>732.000000</td>\n",
       "      <td>8.000000</td>\n",
       "      <td>70.000000</td>\n",
       "    </tr>\n",
       "    <tr>\n",
       "      <th>25%</th>\n",
       "      <td>8.110000</td>\n",
       "      <td>4.000000</td>\n",
       "      <td>105.000000</td>\n",
       "      <td>75.250000</td>\n",
       "      <td>1010.250000</td>\n",
       "      <td>13.725000</td>\n",
       "      <td>73.000000</td>\n",
       "    </tr>\n",
       "    <tr>\n",
       "      <th>50%</th>\n",
       "      <td>10.475000</td>\n",
       "      <td>4.000000</td>\n",
       "      <td>151.000000</td>\n",
       "      <td>94.500000</td>\n",
       "      <td>1275.000000</td>\n",
       "      <td>15.500000</td>\n",
       "      <td>76.000000</td>\n",
       "    </tr>\n",
       "    <tr>\n",
       "      <th>75%</th>\n",
       "      <td>13.840000</td>\n",
       "      <td>8.000000</td>\n",
       "      <td>293.250000</td>\n",
       "      <td>128.000000</td>\n",
       "      <td>1641.250000</td>\n",
       "      <td>17.000000</td>\n",
       "      <td>79.000000</td>\n",
       "    </tr>\n",
       "    <tr>\n",
       "      <th>max</th>\n",
       "      <td>26.140000</td>\n",
       "      <td>8.000000</td>\n",
       "      <td>455.000000</td>\n",
       "      <td>230.000000</td>\n",
       "      <td>2331.000000</td>\n",
       "      <td>24.800000</td>\n",
       "      <td>82.000000</td>\n",
       "    </tr>\n",
       "  </tbody>\n",
       "</table>\n",
       "</div>"
      ],
      "text/plain": [
       "        lper100km   cylinders  displacement  horsepower       weight  \\\n",
       "count  390.000000  390.000000    390.000000  390.000000   390.000000   \n",
       "mean    11.264231    5.479487    194.883333  104.594872  1352.356410   \n",
       "std      3.916624    1.706886    104.703657   38.538599   385.463663   \n",
       "min      5.050000    3.000000     68.000000   46.000000   732.000000   \n",
       "25%      8.110000    4.000000    105.000000   75.250000  1010.250000   \n",
       "50%     10.475000    4.000000    151.000000   94.500000  1275.000000   \n",
       "75%     13.840000    8.000000    293.250000  128.000000  1641.250000   \n",
       "max     26.140000    8.000000    455.000000  230.000000  2331.000000   \n",
       "\n",
       "       acceleration  model_year  \n",
       "count    390.000000  390.000000  \n",
       "mean      15.535641   75.971795  \n",
       "std        2.763569    3.683036  \n",
       "min        8.000000   70.000000  \n",
       "25%       13.725000   73.000000  \n",
       "50%       15.500000   76.000000  \n",
       "75%       17.000000   79.000000  \n",
       "max       24.800000   82.000000  "
      ]
     },
     "execution_count": 69,
     "metadata": {},
     "output_type": "execute_result"
    }
   ],
   "source": [
    "cars.describe()"
   ]
  },
  {
   "attachments": {},
   "cell_type": "markdown",
   "metadata": {},
   "source": [
    "## Auto-mpg dataset statistical analysis\n",
    "\n",
    "One way that \"Swedcar\" can prove that their new engines are better is comparing newer car manufacturing to older in order to prove that newer cars and newer motors are more fuel efficient."
   ]
  },
  {
   "cell_type": "code",
   "execution_count": 70,
   "metadata": {},
   "outputs": [],
   "source": [
    "# Ill start by splitting the data set. into two parts dependant of the year.\n",
    "cars[\"model_year\"].unique()\n",
    "cars_older = cars[(cars[\"model_year\"] == 70) | (cars[\"model_year\"] == 71) | (cars[\"model_year\"] == 72) | (cars[\"model_year\"] == 73) | (cars[\"model_year\"] == 74) | (cars[\"model_year\"] == 75)]\n",
    "cars_newer = cars[(cars[\"model_year\"] == 76) | (cars[\"model_year\"] == 77) | (cars[\"model_year\"] == 78) | (cars[\"model_year\"] == 79) | (cars[\"model_year\"] == 80) | (cars[\"model_year\"] == 81) | (cars[\"model_year\"] == 82)]\n"
   ]
  },
  {
   "attachments": {},
   "cell_type": "markdown",
   "metadata": {},
   "source": [
    "Ill start by comparing the means, variance and most fuel efficient car between the data sets."
   ]
  },
  {
   "cell_type": "code",
   "execution_count": 71,
   "metadata": {},
   "outputs": [
    {
     "name": "stdout",
     "output_type": "stream",
     "text": [
      "Mean value for liters per 100km.\n",
      "Older cars: 13.2859\n",
      "Newer cars: 9.5491\n",
      "Most fuel efficient value for older cars: 6.72\n",
      "Most fuel efficient value for newer cars: 5.05\n",
      "Variance for older: 15.74\n",
      "Variance for newer: 8.63\n"
     ]
    }
   ],
   "source": [
    "new_car_mean = cars_newer[\"lper100km\"].mean()\n",
    "old_car_mean = cars_older[\"lper100km\"].mean()\n",
    "print(f\"Mean value for liters per 100km.\\nOlder cars: {round(old_car_mean, 4)}\\nNewer cars: {round(new_car_mean, 4)}\")\n",
    "print(f\"Most fuel efficient value for older cars: {cars_older['lper100km'].min()}\\nMost fuel efficient value for newer cars: {cars_newer['lper100km'].min()}\") \n",
    "print(f\"Variance for older: {round(cars_older['lper100km'].var(), 2)}\\nVariance for newer: {round(cars_newer['lper100km'].var(), 2)}\")"
   ]
  },
  {
   "attachments": {},
   "cell_type": "markdown",
   "metadata": {},
   "source": [
    "Across the board wins for newer cars! Perfect, but to make Swedcars job to sell their motors to Stures bil AB a bit easier I will visualise the data."
   ]
  },
  {
   "cell_type": "code",
   "execution_count": 72,
   "metadata": {},
   "outputs": [
    {
     "data": {
      "image/png": "[encoded data removed]",
      "text/plain": [
       "<Figure size 640x480 with 1 Axes>"
      ]
     },
     "metadata": {},
     "output_type": "display_data"
    }
   ],
   "source": [
    "# Lets compare the two data sets in a graph:\n",
    "\n",
    "ax_1 = sns.histplot(cars_older, x = \"lper100km\", color = \"blue\",).axvline(old_car_mean,  linestyle=\"--\", linewidth=4, label=\"Old car mean, Bars are Blue\", color=\"orange\")\n",
    "ax_2 = sns.histplot(cars_newer, x = \"lper100km\", color = \"green\",).axvline(new_car_mean,  linestyle=\"-.\", linewidth=4, label=\"New car mean, Bars are Green\",color=\"red\")\n",
    "plt.xlabel(\"Fuel Efficiency (Liters per 100 Kilometers)\", size = 12, weight=900 ) \n",
    "plt.legend();\n",
    "plt.show()\n"
   ]
  },
  {
   "attachments": {},
   "cell_type": "markdown",
   "metadata": {},
   "source": [
    "From what we can see from the above graph newer cars shown in green are more fuel efficient than the older ones shown in blue.\n",
    "The new mean is also 3.736 units more efficient than the older cars mean."
   ]
  },
  {
   "attachments": {},
   "cell_type": "markdown",
   "metadata": {},
   "source": [
    "This is a rather small sample size if we compare it to all cars manufacured during this time.  \n",
    "So I will calculate the true means by using a 95 % confidence interval.\n",
    "This will show that the sample mean is true to reality.\n",
    "  \n",
    "$\\bar x $  \n",
    " ADD LaTeX"
   ]
  },
  {
   "cell_type": "code",
   "execution_count": 73,
   "metadata": {},
   "outputs": [
    {
     "name": "stdout",
     "output_type": "stream",
     "text": [
      "Confidence interval with (α=0.05) fuel consumption (12.7008, 13.8711)\n",
      "Variance = 1.1703\n",
      "Older car mean is inbetween upper and lower values 13.2859\n",
      "\n",
      "Confidence interval with (α=0.05) fuel consumption (9.1504, 9.9479)\n",
      "Variance = 0.7975\n",
      "Newer car mean is inbetween upper and lower values 9.5491\n"
     ]
    }
   ],
   "source": [
    "alpha = 0.05\n",
    "\n",
    "#Calculating the true mean. \n",
    "cars_older_ci = t.interval(confidence= 1 - alpha, df=len(cars_older), loc = np.mean(cars_older[\"lper100km\"]), scale = scs.sem(cars_older[\"lper100km\"]))\n",
    "cars_newer_ci = t.interval(confidence= 1 - alpha, df=len(cars_newer)-1, loc = np.mean(cars_newer[\"lper100km\"]), scale = scs.sem(cars_newer[\"lper100km\"]))\n",
    "\n",
    "\n",
    "\n",
    "print(f\"Confidence interval with (\\u03B1=0.05) fuel consumption {round(cars_older_ci[0],4), round(cars_older_ci[1],4)}\\nVariance = {round(cars_older_ci[1] - cars_older_ci[0],4)}\\nOlder car mean is inbetween upper and lower values {round(old_car_mean,4)}\")\n",
    "print(f\"\\nConfidence interval with (\\u03B1=0.05) fuel consumption {round(cars_newer_ci[0],4), round(cars_newer_ci[1],4)}\\nVariance = {round(cars_newer_ci[1] - cars_newer_ci[0],4)}\\nNewer car mean is inbetween upper and lower values {round(new_car_mean,4)}\")"
   ]
  },
  {
   "attachments": {},
   "cell_type": "markdown",
   "metadata": {},
   "source": [
    "So I can be 95% sure that both the older car mean and newer car mean is true to total polulation"
   ]
  },
  {
   "attachments": {},
   "cell_type": "markdown",
   "metadata": {},
   "source": [
    "With this information I am able to show that my findings in this data set / sample is applicable in the real world market aswell, So Swedcar is getting a much stronger selling point.  \n",
    "Let's get back to the combined dataset again and lets see if we can predict how fuel efficient Swedcars new motors will be, based on our limited dataset."
   ]
  },
  {
   "cell_type": "code",
   "execution_count": 74,
   "metadata": {},
   "outputs": [
    {
     "data": {
      "image/png": "[encoded data removed]",
      "text/plain": [
       "<Figure size 640x480 with 1 Axes>"
      ]
     },
     "metadata": {},
     "output_type": "display_data"
    }
   ],
   "source": [
    "# Ill do a quick scatterplot in order to see if there is any potential in a prediction first\n",
    "sns.scatterplot(cars, x = \"model_year\", y= \"lper100km\", color=\"green\");"
   ]
  },
  {
   "attachments": {},
   "cell_type": "markdown",
   "metadata": {},
   "source": [
    "Looks like we have a clear trend downwards when it comes to fuel efficency. "
   ]
  },
  {
   "cell_type": "code",
   "execution_count": 107,
   "metadata": {},
   "outputs": [
    {
     "data": {
      "image/png": "[encoded data removed]",
      "text/plain": [
       "<Figure size 640x480 with 1 Axes>"
      ]
     },
     "metadata": {},
     "output_type": "display_data"
    },
    {
     "name": "stdout",
     "output_type": "stream",
     "text": [
      "Predicted liters per kilomiter for: \n",
      "1983: 7.0934\n",
      "\n",
      "1984: 6.49995\n",
      "\n",
      "1985: 5.9065\n",
      "\n",
      "slope=-0.5934427858569071, intercept=56.34914436449821, r_value=-0.5580497634954927, p_value=2.6384804542990834e-33, std_err=0.044798906275911134\n"
     ]
    }
   ],
   "source": [
    "from sklearn.linear_model import LinearRegression\n",
    "import matplotlib.pyplot as plt\n",
    "import numpy as np\n",
    "import pandas as pd\n",
    "from scipy import stats\n",
    "\n",
    "\n",
    "# Train the linear regression model on the dataset\n",
    "model = LinearRegression()\n",
    "X = cars[\"model_year\"].values.reshape(-1, 1)\n",
    "y = cars[\"lper100km\"].values\n",
    "model.fit(X, y)\n",
    "\n",
    "# Fit the linear regression model\n",
    "slope, intercept, r_value, p_value, std_err = stats.linregress(X.flatten(), y)\n",
    "\n",
    "# Create a range of future model years\n",
    "future_model_years = np.arange(df[\"model_year\"].min(), df[\"model_year\"].max() + 4, 1).reshape(-1, 1)\n",
    "\n",
    "# Predict the lp100km for future model years\n",
    "future_predictions = slope * future_model_years + intercept\n",
    "pred_years = np.array([[83], [84], [85], [95]])\n",
    "pred_lp100km = model.predict(pred_years)\n",
    "# Create a scatter plot with the regression line\n",
    "plt.scatter(cars[\"model_year\"], y, label=\"Observed\", color = \"black\")\n",
    "plt.plot(future_model_years, future_predictions, color=\"blue\", label=\"Predicted\")\n",
    "plt.xlabel(\"Model year\")\n",
    "plt.ylabel(\"Fuel Efficiency (Liters per 100 Kilometers)\")\n",
    "plt.legend()\n",
    "plt.show()\n",
    "print(\"Predicted liters per kilomiter for: \\n1983:\", round(pred_lp100km[0],4))\n",
    "print(\"\\n1984:\", round(pred_lp100km[1],5))\n",
    "print(\"\\n1985:\", round(pred_lp100km[2],4))\n",
    "print(f\"\\n{slope=}, {intercept=}, {r_value=}, {p_value=}, {std_err=}\")\n"
   ]
  },
  {
   "attachments": {},
   "cell_type": "markdown",
   "metadata": {},
   "source": [
    "We can see a steady decline in liters consumed per 100 kilometers in the years to come.  \n",
    "A obvious issue that the model does not take into account is that it will eventually predict that fuel will be gained for driving a car.  \n",
    "That is physically impossible so we can gather that there must be many more variables at play when it comes to fuel consumption.  "
   ]
  },
  {
   "cell_type": "code",
   "execution_count": 101,
   "metadata": {},
   "outputs": [
    {
     "name": "stdout",
     "output_type": "stream",
     "text": [
      "Predicted liters per kilomiter for: 1995: -0.0279\n"
     ]
    }
   ],
   "source": [
    "#Proving above point by printing out prediction for 1995\n",
    "print(f\"Predicted liters per kilomiter for: 1995:\", round(pred_lp100km[3],4))"
   ]
  },
  {
   "cell_type": "code",
   "execution_count": 77,
   "metadata": {},
   "outputs": [
    {
     "data": {
      "image/png": "[encoded data removed]",
      "text/plain": [
       "<Figure size 640x480 with 1 Axes>"
      ]
     },
     "metadata": {},
     "output_type": "display_data"
    },
    {
     "name": "stdout",
     "output_type": "stream",
     "text": [
      "Coefficients: [[-0.59944649]]\n",
      "Intercept: [56.82450198]\n",
      "Mean Squared Error (MSE): 11.613619787866432\n",
      "R-squared: 0.2655936574059594\n"
     ]
    }
   ],
   "source": [
    "import pandas as pd\n",
    "import matplotlib.pyplot as plt\n",
    "import seaborn as sns\n",
    "from sklearn.linear_model import LinearRegression\n",
    "from sklearn.model_selection import train_test_split\n",
    "from sklearn.metrics import mean_squared_error, r2_score\n",
    "\n",
    "# Load the Auto-mpg dataset\n",
    "\n",
    "\n",
    "# Plot a scatter plot of model_year and mpg to visualize the relationship\n",
    "sns.scatterplot(x='model_year', y='lper100km', data=cars)\n",
    "plt.show()\n",
    "\n",
    "# Split the data into training and testing sets\n",
    "X_train, X_test, y_train, y_test = train_test_split(cars[['model_year']], cars[['lper100km']], test_size=0.2, random_state=0)\n",
    "\n",
    "# Fit the linear regression model to the training data\n",
    "reg = LinearRegression().fit(X_train, y_train)\n",
    "\n",
    "# Predict the mpg values for the testing data using the fitted model\n",
    "y_pred = reg.predict(X_test)\n",
    "\n",
    "# Evaluate the performance of the model using mean squared error (MSE) and R-squared\n",
    "mse = mean_squared_error(y_test, y_pred)\n",
    "r2 = r2_score(y_test, y_pred)\n",
    "\n",
    "# Print the results\n"
   ]
  },
  {
   "cell_type": "markdown",
   "metadata": {},
   "source": []
  },
  {
   "attachments": {},
   "cell_type": "markdown",
   "metadata": {},
   "source": [
    "TODO lägg till LaTeX: \n",
    "Hypotestest mellan två populationer."
   ]
  },
  {
   "attachments": {},
   "cell_type": "markdown",
   "metadata": {},
   "source": [
    "I'll create a hypothesis test between the two new data sets and compare the fuel efficency (liters per 100km) to prove that newer cars are more fuel efficient.\n",
    "I'm planning to show that this hypothesis is 95% true by using a coefficiens of $\\alpha = 0.05$  \n",
    "Below is my planned hypothesis\n",
    " $\\sigma^2_{Old}$ Will have a higher fuel consumption than the $\\sigma^2_{New}$ cars  \n",
    "    $H_A: \\sigma^2_{Old} \\leq \\sigma^2_{New}$ \n",
    "\n",
    "   $H_0: \\sigma^2_{Old} > \\sigma^2_{New}$\n"
   ]
  },
  {
   "cell_type": "code",
   "execution_count": 78,
   "metadata": {},
   "outputs": [
    {
     "data": {
      "text/plain": [
       "(179, 211)"
      ]
     },
     "execution_count": 78,
     "metadata": {},
     "output_type": "execute_result"
    }
   ],
   "source": [
    "# We need to get the size of the samples.\n",
    "n_older = len(cars_older)\n",
    "n_newer = len(cars_newer)\n",
    "n_older, n_newer"
   ]
  },
  {
   "cell_type": "code",
   "execution_count": 79,
   "metadata": {},
   "outputs": [
    {
     "data": {
      "text/plain": [
       "(15.740920915196785,)"
      ]
     },
     "execution_count": 79,
     "metadata": {},
     "output_type": "execute_result"
    }
   ],
   "source": [
    "np.var(cars_older['lper100km'], ddof = 1), \n"
   ]
  },
  {
   "cell_type": "code",
   "execution_count": 80,
   "metadata": {},
   "outputs": [
    {
     "name": "stdout",
     "output_type": "stream",
     "text": [
      "F-Test: 1.823191593088738\n",
      "F-Crit: 0.7874682075906251\n"
     ]
    }
   ],
   "source": [
    "test = cars_older[\"lper100km\"].var(ddof = 1) / cars_newer[\"lper100km\"].var(ddof = 1) # ddof = Delta Degrees of freedom.\n",
    "print(f\"F-Test: {test}\")\n",
    "\n",
    "crit = f.ppf(q=0.05, dfn=n_older-1, dfd=n_newer-1)\n",
    "print(f\"F-Crit: {crit}\")"
   ]
  },
  {
   "attachments": {},
   "cell_type": "markdown",
   "metadata": {},
   "source": [
    "## What did I actually get here?\n",
    "# We can see that the cars are \n",
    "  \n",
    "Lets make a plot and see and see:"
   ]
  },
  {
   "cell_type": "code",
   "execution_count": null,
   "metadata": {},
   "outputs": [],
   "source": []
  },
  {
   "cell_type": "code",
   "execution_count": null,
   "metadata": {},
   "outputs": [],
   "source": []
  },
  {
   "attachments": {},
   "cell_type": "markdown",
   "metadata": {},
   "source": [
    "So what i Found out is that the older cars in the data set are more fuel efficient. That is not what I thought at all.  \n",
    "I need to find a way to explain why this is the case."
   ]
  },
  {
   "cell_type": "code",
   "execution_count": null,
   "metadata": {},
   "outputs": [],
   "source": []
  },
  {
   "attachments": {},
   "cell_type": "markdown",
   "metadata": {},
   "source": [
    "From the above data we can see that across the board the older cars are more fuel efficient.  \n",
    "TODO Visuallasation."
   ]
  },
  {
   "cell_type": "code",
   "execution_count": null,
   "metadata": {},
   "outputs": [],
   "source": []
  },
  {
   "attachments": {},
   "cell_type": "markdown",
   "metadata": {},
   "source": [
    "Even though I have proven time and time again that newer cars are more fuel efficient than older cars.\n",
    "What would really prove my point beyond a shadow of a doubt is to predict how much better a modern motor would be compared to the older motors Stures bil AB is using."
   ]
  },
  {
   "cell_type": "code",
   "execution_count": 81,
   "metadata": {},
   "outputs": [],
   "source": [
    "# Create a model with old and new cars. \n",
    "\n",
    "# Predict what cars from 90 95 05 10 15 20 25 would look like."
   ]
  }
 ],
 "metadata": {
  "kernelspec": {
   "display_name": "Statistical_Analysis_Alexander_Andersson-o_9eJxXu",
   "language": "python",
   "name": "python3"
  },
  "language_info": {
   "codemirror_mode": {
    "name": "ipython",
    "version": 3
   },
   "file_extension": ".py",
   "mimetype": "text/x-python",
   "name": "python",
   "nbconvert_exporter": "python",
   "pygments_lexer": "ipython3",
   "version": "3.9.13"
  },
  "orig_nbformat": 4,
  "vscode": {
   "interpreter": {
    "hash": "055f1f656af37816921c1ffffa019836b4b9e37f2b696235696b50fe72134004"
   }
  }
 },
 "nbformat": 4,
 "nbformat_minor": 2
}
