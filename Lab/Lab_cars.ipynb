{
 "cells": [
  {
   "cell_type": "code",
   "execution_count": 2,
   "metadata": {},
   "outputs": [],
   "source": [
    "#Importing functions\n",
    "import pandas as pd\n",
    "\n",
    "import matplotlib.pyplot as plt\n",
    "import seaborn as sns\n",
    "import plotly as px\n",
    "\n",
    "import scipy.stats as scs\n",
    "from scipy.stats import t\n",
    "from scipy.stats import norm\n",
    "import numpy as np\n",
    "\n",
    "import statsmodels.api as sm\n",
    "from statsmodels.formula.api import ols\n",
    "from Functions import func_rename, func_conversion\n"
   ]
  },
  {
   "attachments": {},
   "cell_type": "markdown",
   "metadata": {},
   "source": [
    "Attribute Information:\n",
    "\n",
    "    mpg: continuous\n",
    "    cylinders: multi-valued discrete\n",
    "    displacement: continuous\n",
    "    horsepower: continuous\n",
    "    weight: continuous\n",
    "    acceleration: continuous\n",
    "    model year: multi-valued discrete\n",
    "    origin: multi-valued discrete\n",
    "    car name: string (unique for each instance)\n",
    "\n",
    "Missing Attribute Values: horsepower has 6 missing values"
   ]
  },
  {
   "cell_type": "code",
   "execution_count": 4,
   "metadata": {},
   "outputs": [
    {
     "name": "stderr",
     "output_type": "stream",
     "text": [
      "C:\\Users\\Agam\\AppData\\Local\\Temp\\ipykernel_9296\\156510797.py:6: FutureWarning: In a future version of pandas all arguments of StringMethods.split except for the argument 'pat' will be keyword-only.\n",
      "  df[[\"name\", \"test\"]] = df[\"name\"].str.split(\" \", 1, expand=True)  # Creating a new column\n",
      "c:\\Users\\Agam\\Documents\\Github\\Statistical_Analysis_Alexander_Andersson\\Lab\\Functions.py:12: SettingWithCopyWarning: \n",
      "A value is trying to be set on a copy of a slice from a DataFrame\n",
      "\n",
      "See the caveats in the documentation: https://pandas.pydata.org/pandas-docs/stable/user_guide/indexing.html#returning-a-view-versus-a-copy\n",
      "  dataframe[column][p] = round(dataframe[column][p]*0.45359237) #Correct math for converting\n",
      "c:\\Users\\Agam\\Documents\\Github\\Statistical_Analysis_Alexander_Andersson\\Lab\\Functions.py:16: SettingWithCopyWarning: \n",
      "A value is trying to be set on a copy of a slice from a DataFrame\n",
      "\n",
      "See the caveats in the documentation: https://pandas.pydata.org/pandas-docs/stable/user_guide/indexing.html#returning-a-view-versus-a-copy\n",
      "  dataframe[column][p] = round(235.215 / dataframe[column][p],2) #Correct math for converting\n"
     ]
    }
   ],
   "source": [
    "# Importing and cleaning data\n",
    "filepath = \"../Lab/Data/cars.csv\" # Creating filepath\n",
    "df = pd.read_csv(filepath) # reading csv with pandas\n",
    "\n",
    "# Adding columns\n",
    "df[[\"name\", \"test\"]] = df[\"name\"].str.split(\" \", 1, expand=True)  # Creating a new column\n",
    "df.rename(columns={\"name\": \"make\", \"test\": \"model\", \"mpg\": \"lper100km\"}, inplace=True) # Renaming columns\n",
    "cars = df # Creating a new dataframe\n",
    "\n",
    "# Handling spelling mistakes:\n",
    "#   The spelling mistakes were found by manually looking through the data.\n",
    "#   func_rename can be found in the Functions.py file \n",
    "func_rename(cars,\"vw\",\"volkswagen\"), func_rename(cars,\"vokswagen\",\"volkswagen\") \n",
    "func_rename(cars,\"chevy\",\"chevrolet\"), func_rename(cars,\"chevroelt\",\"chevrolet\")\n",
    "func_rename(cars,\"maxda\",\"mazda\"), func_rename(cars,\"toyouta\", \"toyota\")\n",
    "func_rename(cars,\"mercedes-benz\", \"mercedes\"),\n",
    "\n",
    "# Converting the weight and miles per gallon into the metric system.\n",
    "#  func_conversion can be found in the Functions.py file\n",
    "func_conversion(cars, \"weight\")\n",
    "func_conversion(cars, \"lper100km\")\n",
    "\n",
    "#dropping nan due to horsepower is missing 6 values\n",
    "cars.dropna(inplace=True)"
   ]
  },
  {
   "attachments": {},
   "cell_type": "markdown",
   "metadata": {},
   "source": [
    "## Auto-mpg dataset statistical analysis\n",
    "The point of this analysis is to check for how "
   ]
  }
 ],
 "metadata": {
  "kernelspec": {
   "display_name": "Statistical_Analysis_Alexander_Andersson-o_9eJxXu",
   "language": "python",
   "name": "python3"
  },
  "language_info": {
   "codemirror_mode": {
    "name": "ipython",
    "version": 3
   },
   "file_extension": ".py",
   "mimetype": "text/x-python",
   "name": "python",
   "nbconvert_exporter": "python",
   "pygments_lexer": "ipython3",
   "version": "3.9.13"
  },
  "orig_nbformat": 4,
  "vscode": {
   "interpreter": {
    "hash": "055f1f656af37816921c1ffffa019836b4b9e37f2b696235696b50fe72134004"
   }
  }
 },
 "nbformat": 4,
 "nbformat_minor": 2
}
