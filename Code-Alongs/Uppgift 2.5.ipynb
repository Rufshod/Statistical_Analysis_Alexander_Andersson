{
 "cells": [
  {
   "cell_type": "markdown",
   "id": "644e0cbb-a318-4d0c-8fb5-985b9be0c845",
   "metadata": {},
   "source": [
    "<h3>Uppgift 2.5</h3>"
   ]
  },
  {
   "cell_type": "markdown",
   "id": "7a6ad2b1-c3a9-431f-bb81-636b137e3146",
   "metadata": {},
   "source": [
    "Sture drar slumpmässigt ett kort från en vanlig kortlek med 52 kort utan att titta. Stures kompis Allan drar sedan ett kort från de återstående korten utan att titta.<br>\n",
    "<ol>\n",
    "    <li>Vad är sannolikheten att Sture har ruter 10?</li>\n",
    "    <li>Vad är sannolikheten att Allan har ruter 10?</li>\n",
    "    <li>Om Allan vänder upp sitt kort och det visar sig vara klöver 2, hur sannolikt är det att Stures kort är ruter 10?</li>\n",
    "</ol>"
   ]
  },
  {
   "cell_type": "markdown",
   "id": "907bb84e-1383-4295-b28b-5c31452f3d15",
   "metadata": {},
   "source": [
    "<strong>Lösning (1):</strong><br>\n",
    "Den här sannolikheten kan vi beräkna empiriskt genom att använda oss av relativ frekvens. Vi har total 52 olika utfall, och är intresserade av sannolikheten för ett specifikt utfall. Om vi låter händelsen att Sture drar ruter 10 betecknas med $S$, så blir därför sannolikheten $P(S)=\\frac{1}{52}$, eller, om vi vill beräkna bråket:"
   ]
  },
  {
   "cell_type": "code",
   "execution_count": 1,
   "id": "f87c3364-70b6-4a96-aa24-357d3da38efd",
   "metadata": {},
   "outputs": [
    {
     "data": {
      "text/plain": [
       "0.019230769230769232"
      ]
     },
     "execution_count": 1,
     "metadata": {},
     "output_type": "execute_result"
    }
   ],
   "source": [
    "1/52"
   ]
  },
  {
   "cell_type": "markdown",
   "id": "460275d3-5193-4228-8e95-63f3e0b7f603",
   "metadata": {},
   "source": [
    "<strong>Lösning (2):</strong><br>\n",
    "I fallet med Allans kort kan vi visa att sannolikheten att Allan drar ruter 10 är exakt samma som för Sture genom att använda oss av lagen om total sannolikhet. Den säger följande: <i>Sannolikheten för en händelse A är lika med summan av snitten av A med någon uppsättning uttömmande och uteslutande händelser. </i><br><br>\n",
    "$P(A)=P(A \\cap B)+P(A \\cap \\bar{B})$<br>\n",
    "<br>\n",
    "Genom att sedan använda oss av definitionen av betingad sannolikhet ($P(A|B)=\\dfrac{P(A \\cap B)}{P(B)}$), så kan vi skriva om lagen om total sannolikhet i termer av betingade sannolikheter istället.\n",
    "                                \n",
    "$P(A)=P(A|B)P(B)+P(A|\\bar{B})P(\\bar{B})$"
   ]
  },
  {
   "cell_type": "markdown",
   "id": "eb14bf92-7026-4a87-bb72-31765a14875b",
   "metadata": {},
   "source": [
    "Låt nu händelsen att Allan drar ruter 10 betecknas med $A$. Sannolikheten $P(A)$, kan då skrivas som en summa av betingade sannolikheter givet de två uttömmande och uteslutande händelserna $S$ och $\\bar{S}$, dvs att Sture antingen drar, eller inte drar ruter 10:<br><br>\n",
    "$P(A)=P(A|S)P(S)+P(A|\\bar{S})P(\\bar{S})$"
   ]
  },
  {
   "cell_type": "markdown",
   "id": "513c5c8e-cb0c-40d8-b82f-dab937da7198",
   "metadata": {},
   "source": [
    "$P(A|S)$, alltså sannolikheten att Allan drar ruter 10, givet att Sture dragit ruter 10, är 0. Om Sture redan dragit ruter 10, så kan Allan omöjligt göra det.<br>\n",
    "$P(S)$ har vi tidigare kommit fram till är $\\dfrac{1}{52}$.<br>\n",
    "$P(A|\\bar{S})$, alltså sannolikheten att Allan drar ruter 10, givet att Sture <i>inte</i> drog ruter 10, kan vi beräkna som $\\dfrac{1}{51}$ (Enkel dragning från de återstående korten).<br>\n",
    "$P(\\bar{S})$, är komplementet till S, alltså $1-\\dfrac{1}{52}=\\dfrac{51}{52}$.<br><br>\n",
    "Insättning av allt det här i uttrycket för $P(A)$ ger:<br>\n",
    "$P(A)=0*\\dfrac{1}{52}+\\dfrac{1}{51}*\\dfrac{51}{52}=\\dfrac{1}{52}$"
   ]
  },
  {
   "cell_type": "markdown",
   "id": "fb1884e9-058e-41bb-add4-0637a6b478a4",
   "metadata": {},
   "source": [
    "Allt som allt har vi alltså här visat, via lagen om total sannolikhet, att $P(A)=P(S)$."
   ]
  },
  {
   "cell_type": "markdown",
   "id": "f0752c25-866f-41e7-a164-3b7ed6337557",
   "metadata": {},
   "source": [
    "<strong>Lösning (3):</strong><br>\n",
    "I fallet där Allan visar att han inte dragit ruter 10 kan vi logiskt resonera oss fram till att det då återstår 51 kort totalt, alltså blir Stures kort i praktiken en enkel dragning från 51 objekt. Den relativa frekvensen blir då $\\dfrac{1}{51}$<br>"
   ]
  },
  {
   "cell_type": "code",
   "execution_count": 4,
   "id": "cad55ba1-57f2-4fa2-b128-156914ee7b3e",
   "metadata": {},
   "outputs": [
    {
     "data": {
      "text/plain": [
       "0.0196078431372549"
      ]
     },
     "execution_count": 4,
     "metadata": {},
     "output_type": "execute_result"
    }
   ],
   "source": [
    "1/51"
   ]
  },
  {
   "cell_type": "code",
   "execution_count": null,
   "id": "e15f44ba-12be-4abb-b688-5c9347a3035a",
   "metadata": {},
   "outputs": [],
   "source": []
  }
 ],
 "metadata": {
  "kernelspec": {
   "display_name": "Python 3",
   "language": "python",
   "name": "python3"
  },
  "language_info": {
   "codemirror_mode": {
    "name": "ipython",
    "version": 3
   },
   "file_extension": ".py",
   "mimetype": "text/x-python",
   "name": "python",
   "nbconvert_exporter": "python",
   "pygments_lexer": "ipython3",
   "version": "3.9.13"
  },
  "vscode": {
   "interpreter": {
    "hash": "287876418b1177767fd3ee26a082a634abf206aa424861d57cf76d9abc857edd"
   }
  }
 },
 "nbformat": 4,
 "nbformat_minor": 5
}
