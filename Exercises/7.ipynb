{
 "cells": [
  {
   "cell_type": "code",
   "execution_count": 1,
   "metadata": {},
   "outputs": [],
   "source": [
    "import numpy as np"
   ]
  },
  {
   "attachments": {},
   "cell_type": "markdown",
   "metadata": {},
   "source": [
    "Anteckningar för 27/1-23\n",
    " \n",
    "### Hypotestest.\n",
    "- Vi har en frågeställning vi vill svara på.\n",
    "- $\\mu \\gt 45$ ?\n",
    "- $p \\lt 0.4$  ?\n",
    "- $\\mu - \\mu \\ne 0$ ?\n",
    "- Vad kan vi säga utifrån vårt stickprov\n",
    "- Vad kan vi säga om populationen ifrån vårat stickprov, \n",
    "\n",
    "## 1.\n",
    "\n",
    "## Börja alltid med Hypoteserna och vad dom betyder.\n",
    "\n",
    "#### Noll hypotesen: $H_0$\n",
    "- Status quo, Latin för inget har förändrats\n",
    "- Resten efter $H_A$ (1 - $H_A$)\n",
    "- Den innehåller alltid likhet $(= , \\le, \\ge)$\n",
    "\n",
    "#### Alternativ hypotesen : $H_A$ (Kan också kallas $H_1$)\n",
    "- Vad vi vill visa. Alternativ hypotesen är alltid relaterad till Noll hypotesen, Antingen förkastar vi nollhypotesen eller inte.\n",
    "- Att vi förkastar noll hypotesen betyder inte att den inte stämmer.\n",
    "##### Formulera $H_A$ först.\n",
    "\n",
    "## 2. \n",
    "## Signifikansgrad\n",
    "- $\\alpha = 1 - konfidens$ Risken för Typ 1 - fel.\n",
    "- Att förkasta Noll Hypotesen trotts att den är sann. Exempel i rätten, Nollhypotesen är alltid att den åklagade är oskyldig. Så ett typ 1 fel är att man förkastar nollhypotesen och säger att åklagade är skyldig trots det att dom är oskyldiga\n",
    "\n",
    "- $\\beta$ = Risken för Typ 2 - fel. Att den skyldiga åklagade går fel.\n",
    "- $1 - \\beta = Statistical Power$\n",
    "- Dessa riskerna / felen är alltid **kopplade**. Så gör man chansen mindre att göra typ 1 fel så blir det större chans att få typ 2 fel.\n",
    "#### Det enda sättet att förminska chansen för både typ 1 och typ 2 fel är att öka storleken på stickproven.\n",
    "\n",
    "\n",
    "## 3.\n",
    "## Testfunktion\n",
    "- Test funktionen är den vi kommer beräkna med hjälp av vårat stickprov som vi sedan beräknar med signifikansgraden.\n",
    "- Beror på parameter i testet.\n",
    "- **Tips från Lärare: Gå till Fromelsamlingen.**, ***Heter Testfunktion i formelsamlingen***\n",
    "- När vi valt testfunktion **Beräknar vi värde på testfunktion.**\n",
    "- De testfunktioner vi använt i kursen är **Z**-Fördelningen, **t**-Fördelningen och **F**-Fördelningen\n",
    "#### Tillexempel ifall vi använder Z - Fördelning så får vi: Ztest = värdet på testfunktion.\n",
    "\n",
    "## 4.\n",
    "## Testa mot signifikans.\n",
    "- lite rörigt, kan göra på två sätt. de är eqvivalenta så spelar egentligen ingen roll vilken man väljer.\n",
    "- Vi har gjort ett Ztest som vi ska jämnföra med vårat Zcrit. (Zcrit kommer ifrån våran signifikansgrad = $\\alpha$)\n",
    "- $Är Ztest > Zcrit$, Eller är P-värde < $\\alpha$ $P(Z \\le Ztest)$ , $P(Z \\le Ztest) = \\alpha$\n",
    "\n",
    "\n",
    "## 5.\n",
    "## Tolka Resultatet.\n",
    "- Är Ztest > Zcrit så förkastar vi Noll hypotesen.\n",
    "- Räcker inte bara att vi säger att vi förkastar eller behåller $H_0$ \n",
    "- Vi måste gå tillbaka till Frågeställningen och svarar på vad frågan faktiskt var.\n",
    "\n",
    "- Får man ett \"Dåligt\" p-värde så bör man resonera att man kört Z < Zcrit = a åt fel håll. Då det beror på \"åt vilket håll\" hypotesen \"pekar mot\"\n",
    "\n",
    "- Ensidaga test bör man aldrig egentligen göra i verkligheten.\n",
    "\n",
    "## Ovan är de 5 stegen man ska gå igenom för att göra ett hypotestest.\n",
    "\n",
    "## Man kan behöva göra Hypotestest två gånger.\n"
   ]
  },
  {
   "cell_type": "code",
   "execution_count": 2,
   "metadata": {},
   "outputs": [
    {
     "name": "stdout",
     "output_type": "stream",
     "text": [
      "I och med att gamla z 0.01 är större än nya z 0.004, så förkastar vi nollhypotesen.\n"
     ]
    }
   ],
   "source": [
    "#7:1\n",
    "mu = 31.2 # gamla mu\n",
    "sigma = 8\n",
    "n = 24\n",
    "a = 0.01\n",
    "zo = 2.33 # Gamla Z\n",
    "Ho = mu <= 31.2 # mu är nya mu\n",
    "H1 = mu > 31.2 # mu är nya mu\n",
    "# Formel som ska användas är den första i testfunktioner. Mu0 är gamla Mu\n",
    "xstreck = 35.6\n",
    "z = (xstreck - mu) / (sigma / np.sqrt(n))\n",
    "# i tabellen är \n",
    "z = round(1 - 0.9964, 3)\n",
    "# gamla z är mindre än nya z. Alltså förkastas Nollhypotesen. \n",
    "print(f\"I och med att gamla z {a} är större än nya z {z}, så förkastar vi nollhypotesen.\")"
   ]
  },
  {
   "cell_type": "code",
   "execution_count": null,
   "metadata": {},
   "outputs": [],
   "source": [
    "\n",
    "\n",
    "\n",
    "\n",
    "\n",
    "\n",
    "\n",
    "\n",
    "\n",
    "\n",
    "\n",
    "\n",
    "\n",
    "\n",
    "\n",
    "\n",
    "\n",
    "\n",
    "\n",
    "\n",
    "\n",
    "\n",
    "\n",
    "\n",
    "\n",
    "\n",
    "\n",
    "\n",
    "\n",
    "\n",
    "\n",
    "\n",
    "\n",
    "\n",
    "\n",
    "\n",
    "\n"
   ]
  },
  {
   "cell_type": "code",
   "execution_count": 22,
   "metadata": {},
   "outputs": [
    {
     "name": "stdout",
     "output_type": "stream",
     "text": [
      "Antalet café besök har ökat då Nollhypotesen 0.01 är större än Alternativ Hypotesen 0.0036000000000000476, Nollhypotesen kan till 99% konfidens / 0.01 Signifikans förkastas.\n",
      "Alternativt svar \n",
      "Antal café besök har ökat då Nollhypotesens Z värde 2.33 < än Alternativ Hypotesen 2.6944387170614967, Noll Hypotesen förkastas till 99% konfidens\n"
     ]
    }
   ],
   "source": [
    "# 7:1 again.\n",
    "sigma = 8\n",
    "x_bar = 35.6\n",
    "mu0 = 31.2\n",
    "n = 24\n",
    "a = 0.01 # BARA ENSIDIGT TEST, SÅ  DELA EJ MED 2\n",
    "z = 2.33\n",
    "# Testa med a = 0.01 om det genomsnittliga antalet cafébesök per person i staden har ökat.\n",
    "# Testa nedekvärde i en population då populationsstandardavvikelsen är känd.\n",
    "\n",
    "# H_A Har café besök ökat. mu > 31.2\n",
    "# H_0 är mu <= 31.2\n",
    "\n",
    "Zt = (x_bar - mu0) / (sigma / np.sqrt(n))\n",
    "Zcrit = 0.9964\n",
    "print(f\"Antalet café besök har ökat då Nollhypotesen {a} är större än Alternativ Hypotesen {1-Zcrit}, Nollhypotesen kan till 99% konfidens / 0.01 Signifikans förkastas.\")\n",
    "# 0.003 är mindre eller HAMNAR UTANFÖR 0.01. vilket vi ville bevisa i detta fallet. \n",
    "\n",
    "print(f\"Alternativt svar \\nAntal café besök har ökat då Nollhypotesens Z värde {z} < än Alternativ Hypotesen {Zt}, Noll Hypotesen förkastas till 99% konfidens\")"
   ]
  },
  {
   "cell_type": "code",
   "execution_count": 3,
   "metadata": {},
   "outputs": [],
   "source": [
    "#7:6\n",
    "n = 22\n",
    "xstreck = 36.6\n",
    "s = 15.9\n",
    "a = 0.05\n",
    "df = n-1 # 21\n",
    "mu0 = 30\n",
    "t0 = 1.721\n",
    "Ho = mu <= 30\n",
    "H1 = mu > 30 # ifrågasättandet, \n",
    "# formeln första i testfuntkioner.\n",
    "t2 = (xstreck - mu0) / (s / np.sqrt(n))\n",
    "# t2 > t0 -> förkastar H0"
   ]
  },
  {
   "cell_type": "code",
   "execution_count": 4,
   "metadata": {},
   "outputs": [
    {
     "name": "stdout",
     "output_type": "stream",
     "text": [
      "P(t<=-2.131)   =   P(t>=2.131)\n"
     ]
    }
   ],
   "source": [
    "# 7:7 Finns inspelad med lektion.\n",
    "# Börja med att kolla hypoteser\n",
    "# Frågan är priset på råolja, vi har fått medelvärde på ett stickprov under 10 dagar.\n",
    "s = 3.62 # stickprovsstandardavvikelsen. Är inte samma som standardavvikelse för population... Alltså Sigma.\n",
    "MUo = 22\n",
    "x = 19.56\n",
    "n = 10\n",
    "#Är medelvärdet lägre än 22 dollar?\n",
    "Ha = MUo<22 #Alternativ Hypotesen\n",
    "Ho = MUo>22 #Nol Hypotesen\n",
    "# Signifikansnivå\n",
    "a = 0.05\n",
    "\n",
    "t = (x-MUo)/(s/np.sqrt(n))\n",
    "print(f\"P(t<={round(t,3)})   =   P(t>={round(-t,3)})\"  ) # Kolla printen. Använder -t i slutet för att det ska vara positivt i printen bara.\n",
    "#Vi har nu t. Så vi kollar i t fördelnings tabellen efter ett värde som är 2.13\n",
    "\n",
    "#enklare sett är att räkna ut tcrit först\n",
    "#tcrit = ta n-1 = t0.05,9 = 1.83, i t fördelnings tabellen gå till. 0.05 med df 9\n",
    "\n",
    "# |t test| > tcrit, Detta betyder att vi förkastar Ho.\n",
    "#Vi konstaterar att det sanna medelvärdet mu är under 22.\n",
    "#VIKTIGT ATT VÄLJA RÄTT Ho TEST. < > eller = för mu.\n",
    "\n"
   ]
  },
  {
   "cell_type": "code",
   "execution_count": 28,
   "metadata": {},
   "outputs": [
    {
     "name": "stdout",
     "output_type": "stream",
     "text": [
      "Hmm... Nollhypotesens Z 1.721 är mindre än Alternativ Hypotesen 1.9469650323795373, \n"
     ]
    }
   ],
   "source": [
    "#7:6 igen\n",
    "mu0 = 30\n",
    "# H_0  <= 30\n",
    "# H_a  > 30\n",
    "n = 22\n",
    "x_bar = 36.6\n",
    "s = 15.9 # stickprovsstandard avikelsen.\n",
    "a = 0.05\n",
    "Tcrit = 1.721\n",
    "\n",
    "Ttest = (x_bar - mu0) / (s / np.sqrt(n)) # större t värde innebär en mindre probabilitet.\n",
    "\n",
    "print(f\"Hmm... Nollhypotesens t {Tcrit} är mindre än Alternativ Hypotesen {Ttest}, \")\n",
    "# Med en 95 % konfidens, förkastar vi Nollhypotesen då bilarna drar mer än 30 liter."
   ]
  }
 ],
 "metadata": {
  "kernelspec": {
   "display_name": "Statistical_Analysis_Alexander_Andersson-IabUt-VZ",
   "language": "python",
   "name": "python3"
  },
  "language_info": {
   "codemirror_mode": {
    "name": "ipython",
    "version": 3
   },
   "file_extension": ".py",
   "mimetype": "text/x-python",
   "name": "python",
   "nbconvert_exporter": "python",
   "pygments_lexer": "ipython3",
   "version": "3.9.13"
  },
  "orig_nbformat": 4,
  "vscode": {
   "interpreter": {
    "hash": "0a5449485d52d0dbc49e2e3ace10673241792dd720c3ee3e454038992c7d9c2b"
   }
  }
 },
 "nbformat": 4,
 "nbformat_minor": 2
}
