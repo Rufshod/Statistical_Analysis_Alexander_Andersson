{
 "cells": [
  {
   "cell_type": "code",
   "execution_count": 1,
   "metadata": {},
   "outputs": [],
   "source": [
    "import numpy as np"
   ]
  },
  {
   "cell_type": "code",
   "execution_count": 16,
   "metadata": {},
   "outputs": [
    {
     "name": "stdout",
     "output_type": "stream",
     "text": [
      "I och med att gamla z 0.01 är större än nya z 0.004\n"
     ]
    }
   ],
   "source": [
    "#7:1\n",
    "mu = 31.2 # gamla mu\n",
    "sigma = 8\n",
    "n = 24\n",
    "a = 0.01\n",
    "zo = 2.33 # Gamla Z\n",
    "Ho = mu <= 31.2 # mu är nya mu\n",
    "H1 = mu > 31.2 # mu är nya mu\n",
    "# Formel som ska användas är den första i testfunktioner. Är är gamla mu MUo\n",
    "xstreck = 35.6\n",
    "z = (xstreck - mu) / (sigma / np.sqrt(n))\n",
    "# i tabellen är \n",
    "z = round(1 - 0.9964, 3)\n",
    "# gamla z är mindre än nya z. Alltså förkastas Nollhypotesen. \n",
    "print(f\"I och med att gamla z {a} är större än nya z {z}, så förkastar vi nollhypotesen.\")"
   ]
  },
  {
   "cell_type": "code",
   "execution_count": 19,
   "metadata": {},
   "outputs": [
    {
     "data": {
      "text/plain": [
       "1.9469650323795373"
      ]
     },
     "execution_count": 19,
     "metadata": {},
     "output_type": "execute_result"
    }
   ],
   "source": [
    "#7:6\n",
    "n = 22\n",
    "xstreck = 36.6\n",
    "s = 15.9\n",
    "a = 0.05\n",
    "df = n-1 # 21\n",
    "mu0 = 30\n",
    "t0 = 1.721\n",
    "Ho = mu <= 30\n",
    "H1 = mu > 30 # ifrågasättandet, \n",
    "# formeln första i testfuntkioner.\n",
    "t2 = (xstreck - mu0) / (s / np.sqrt(n))\n",
    "# t2 > t0 -> förkastar H0"
   ]
  },
  {
   "cell_type": "code",
   "execution_count": 8,
   "metadata": {},
   "outputs": [
    {
     "name": "stdout",
     "output_type": "stream",
     "text": [
      "P(t<=-2.131)   =   P(t>=2.131)\n"
     ]
    }
   ],
   "source": [
    "# 7:7 Finns inspelad med lektion.\n",
    "# Börja med att kolla hypoteser\n",
    "# Frågan är priset på råolja, vi har fått medelvärde på ett stickprov under 10 dagar.\n",
    "s = 3.62 # stickprovsstandardavvikelsen. Är inte samma som standardavvikelse för population... Alltså Sigma.\n",
    "MUo = 22\n",
    "x = 19.56\n",
    "n = 10\n",
    "#Är medelvärdet lägre än 22 dollar?\n",
    "Ha = MUo<22 #Alternativ Hypotesen\n",
    "Ho = MUo>22 #Nol Hypotesen\n",
    "# Signifikansnivå\n",
    "a = 0.05\n",
    "\n",
    "t = (x-MUo)/(s/np.sqrt(n))\n",
    "print(f\"P(t<={round(t,3)})   =   P(t>={round(-t,3)})\"  ) # Kolla printen. Använder -t i slutet för att det ska vara positivt i printen bara.\n",
    "#Vi har nu t. Så vi kollar i t fördelnings tabellen efter ett värde som är 2.13\n",
    "\n",
    "#enklare sett är att räkna ut tcrit först\n",
    "#tcrit = ta n-1 = t0.05,9 = 1.83, i t fördelnings tabellen gå till. 0.05 med df 9\n",
    "\n",
    "# |t test| > tcrit, Detta betyder att vi förkastar Ho.\n",
    "#Vi konstaterar att det sanna medelvärdet mu är under 22.\n",
    "#VIKTIGT ATT VÄLJA RÄTT Ho TEST. < > eller = för mu.\n",
    "\n"
   ]
  }
 ],
 "metadata": {
  "kernelspec": {
   "display_name": "Statistical_Analysis_Alexander_Andersson-IabUt-VZ",
   "language": "python",
   "name": "python3"
  },
  "language_info": {
   "codemirror_mode": {
    "name": "ipython",
    "version": 3
   },
   "file_extension": ".py",
   "mimetype": "text/x-python",
   "name": "python",
   "nbconvert_exporter": "python",
   "pygments_lexer": "ipython3",
   "version": "3.9.13"
  },
  "orig_nbformat": 4,
  "vscode": {
   "interpreter": {
    "hash": "0a5449485d52d0dbc49e2e3ace10673241792dd720c3ee3e454038992c7d9c2b"
   }
  }
 },
 "nbformat": 4,
 "nbformat_minor": 2
}
