{
 "cells": [
  {
   "cell_type": "code",
   "execution_count": 102,
   "metadata": {},
   "outputs": [],
   "source": [
    "import numpy as np"
   ]
  },
  {
   "attachments": {},
   "cell_type": "markdown",
   "metadata": {},
   "source": [
    "Anteckningar för 27/1-23\n",
    " \n",
    "### Hypotestest.\n",
    "- Vi har en frågeställning vi vill svara på.\n",
    "- $\\mu \\gt 45$ ?\n",
    "- $p \\lt 0.4$  ?\n",
    "- $\\mu - \\mu \\ne 0$ ?\n",
    "- Vad kan vi säga utifrån vårt stickprov\n",
    "- Vad kan vi säga om populationen ifrån vårat stickprov, \n",
    "\n",
    "## 1.\n",
    "\n",
    "## Börja alltid med Hypoteserna och vad dom betyder.\n",
    "\n",
    "#### Noll hypotesen: $H_0$\n",
    "- Status quo, Latin för inget har förändrats\n",
    "- Resten efter $H_A$ (1 - $H_A$)\n",
    "- Den innehåller alltid likhet $(= , \\le, \\ge)$\n",
    "\n",
    "#### Alternativ hypotesen : $H_A$ (Kan också kallas $H_1$)\n",
    "- Vad vi vill visa. Alternativ hypotesen är alltid relaterad till Noll hypotesen, Antingen förkastar vi nollhypotesen eller inte.\n",
    "- Att vi förkastar noll hypotesen betyder inte att den inte stämmer.\n",
    "##### Formulera $H_A$ först.\n",
    "\n",
    "## 2. \n",
    "## Signifikansgrad\n",
    "- $\\alpha = 1 - konfidens$ Risken för Typ 1 - fel.\n",
    "- Att förkasta Noll Hypotesen trotts att den är sann. Exempel i rätten, Nollhypotesen är alltid att den åklagade är oskyldig. Så ett typ 1 fel är att man förkastar nollhypotesen och säger att åklagade är skyldig trots det att dom är oskyldiga\n",
    "\n",
    "- $\\beta$ = Risken för Typ 2 - fel. Att den skyldiga åklagade går fel.\n",
    "- $1 - \\beta = Statistical Power$\n",
    "- Dessa riskerna / felen är alltid **kopplade**. Så gör man chansen mindre att göra typ 1 fel så blir det större chans att få typ 2 fel.\n",
    "#### Det enda sättet att förminska chansen för både typ 1 och typ 2 fel är att öka storleken på stickproven.\n",
    "\n",
    "\n",
    "## 3.\n",
    "## Testfunktion\n",
    "- Test funktionen är den vi kommer beräkna med hjälp av vårat stickprov som vi sedan beräknar med signifikansgraden.\n",
    "- Beror på parameter i testet.\n",
    "- **Tips från Lärare: Gå till Fromelsamlingen.**, ***Heter Testfunktion i formelsamlingen***\n",
    "- När vi valt testfunktion **Beräknar vi värde på testfunktion.**\n",
    "- De testfunktioner vi använt i kursen är **Z**-Fördelningen, **t**-Fördelningen och **F**-Fördelningen\n",
    "#### Tillexempel ifall vi använder Z - Fördelning så får vi: Ztest = värdet på testfunktion.\n",
    "\n",
    "## 4.\n",
    "## Testa mot signifikans.\n",
    "- lite rörigt, kan göra på två sätt. de är eqvivalenta så spelar egentligen ingen roll vilken man väljer.\n",
    "- Vi har gjort ett Ztest som vi ska jämnföra med vårat Zcrit. (Zcrit kommer ifrån våran signifikansgrad = $\\alpha$)\n",
    "- $Är Ztest > Zcrit$, Eller är P-värde < $\\alpha$ $P(Z \\le Ztest)$ , $P(Z \\le Ztest) = \\alpha$\n",
    "\n",
    "\n",
    "## 5.\n",
    "## Tolka Resultatet.\n",
    "- Är Ztest > Zcrit så förkastar vi Noll hypotesen.\n",
    "- Räcker inte bara att vi säger att vi förkastar eller behåller $H_0$ \n",
    "- Vi måste gå tillbaka till Frågeställningen och svarar på vad frågan faktiskt var.\n",
    "\n",
    "- Får man ett \"Dåligt\" p-värde så bör man resonera att man kört Z < Zcrit = a åt fel håll. Då det beror på \"åt vilket håll\" hypotesen \"pekar mot\"\n",
    "\n",
    "- Ensidaga test bör man aldrig egentligen göra i verkligheten.\n",
    "\n",
    "## Ovan är de 5 stegen man ska gå igenom för att göra ett hypotestest.\n",
    "\n",
    "## Man kan behöva göra Hypotestest två gånger.\n"
   ]
  },
  {
   "cell_type": "code",
   "execution_count": 103,
   "metadata": {},
   "outputs": [
    {
     "name": "stdout",
     "output_type": "stream",
     "text": [
      "I och med att gamla z 0.01 är större än nya z 0.004, så förkastar vi nollhypotesen.\n"
     ]
    }
   ],
   "source": [
    "#7:1\n",
    "mu = 31.2 # gamla mu\n",
    "sigma = 8\n",
    "n = 24\n",
    "a = 0.01\n",
    "zo = 2.33 # Gamla Z\n",
    "Ho = mu <= 31.2 # mu är nya mu\n",
    "H1 = mu > 31.2 # mu är nya mu\n",
    "# Formel som ska användas är den första i testfunktioner. Mu0 är gamla Mu\n",
    "xstreck = 35.6\n",
    "z = (xstreck - mu) / (sigma / np.sqrt(n))\n",
    "# i tabellen är \n",
    "z = round(1 - 0.9964, 3)\n",
    "# gamla z är mindre än nya z. Alltså förkastas Nollhypotesen. \n",
    "print(f\"I och med att gamla z {a} är större än nya z {z}, så förkastar vi nollhypotesen.\")"
   ]
  },
  {
   "cell_type": "code",
   "execution_count": 104,
   "metadata": {},
   "outputs": [
    {
     "name": "stdout",
     "output_type": "stream",
     "text": [
      "Antalet café besök har ökat då Nollhypotesen 0.01 är större än Alternativ Hypotesen 0.0036000000000000476, Nollhypotesen kan till 99% konfidens / 0.01 Signifikans förkastas.\n",
      "Alternativt svar \n",
      "Antal café besök har ökat då Nollhypotesens Z värde 2.33 < än Alternativ Hypotesen 2.6944387170614967, Noll Hypotesen förkastas till 99% konfidens\n"
     ]
    }
   ],
   "source": [
    "# 7:1 again.\n",
    "sigma = 8\n",
    "x_bar = 35.6\n",
    "mu0 = 31.2\n",
    "n = 24\n",
    "a = 0.01 # BARA ENSIDIGT TEST, SÅ  DELA EJ MED 2\n",
    "z = 2.33\n",
    "# Testa med a = 0.01 om det genomsnittliga antalet cafébesök per person i staden har ökat.\n",
    "# Testa nedekvärde i en population då populationsstandardavvikelsen är känd.\n",
    "\n",
    "# H_A Har café besök ökat. mu > 31.2\n",
    "# H_0 är mu <= 31.2\n",
    "\n",
    "Zt = (x_bar - mu0) / (sigma / np.sqrt(n))\n",
    "Zcrit = 0.9964\n",
    "print(f\"Antalet café besök har ökat då Nollhypotesen {a} är större än Alternativ Hypotesen {1-Zcrit}, Nollhypotesen kan till 99% konfidens / 0.01 Signifikans förkastas.\")\n",
    "# 0.003 är mindre eller HAMNAR UTANFÖR 0.01. vilket vi ville bevisa i detta fallet. \n",
    "\n",
    "print(f\"Alternativt svar \\nAntal café besök har ökat då Nollhypotesens Z värde {z} < än Alternativ Hypotesen {Zt}, Noll Hypotesen förkastas till 99% konfidens\")"
   ]
  },
  {
   "cell_type": "code",
   "execution_count": 105,
   "metadata": {},
   "outputs": [],
   "source": [
    "#7:6\n",
    "n = 22\n",
    "xstreck = 36.6\n",
    "s = 15.9\n",
    "a = 0.05\n",
    "df = n-1 # 21\n",
    "mu0 = 30\n",
    "t0 = 1.721\n",
    "Ho = mu <= 30\n",
    "H1 = mu > 30 # ifrågasättandet, \n",
    "# formeln första i testfuntkioner.\n",
    "t2 = (xstreck - mu0) / (s / np.sqrt(n))\n",
    "# t2 > t0 -> förkastar H0"
   ]
  },
  {
   "cell_type": "code",
   "execution_count": 106,
   "metadata": {},
   "outputs": [
    {
     "name": "stdout",
     "output_type": "stream",
     "text": [
      "P(t<=-2.131)   =   P(t>=2.131)\n"
     ]
    }
   ],
   "source": [
    "# 7:7 Finns inspelad med lektion.\n",
    "# Börja med att kolla hypoteser\n",
    "# Frågan är priset på råolja, vi har fått medelvärde på ett stickprov under 10 dagar.\n",
    "s = 3.62 # stickprovsstandardavvikelsen. Är inte samma som standardavvikelse för population... Alltså Sigma.\n",
    "MUo = 22\n",
    "x = 19.56\n",
    "n = 10\n",
    "#Är medelvärdet lägre än 22 dollar?\n",
    "Ha = MUo<22 #Alternativ Hypotesen\n",
    "Ho = MUo>22 #Nol Hypotesen\n",
    "# Signifikansnivå\n",
    "a = 0.05\n",
    "\n",
    "t = (x-MUo)/(s/np.sqrt(n))\n",
    "print(f\"P(t<={round(t,3)})   =   P(t>={round(-t,3)})\"  ) # Kolla printen. Använder -t i slutet för att det ska vara positivt i printen bara.\n",
    "#Vi har nu t. Så vi kollar i t fördelnings tabellen efter ett värde som är 2.13\n",
    "\n",
    "#enklare sett är att räkna ut tcrit först\n",
    "#tcrit = ta n-1 = t0.05,9 = 1.83, i t fördelnings tabellen gå till. 0.05 med df 9\n",
    "\n",
    "# |t test| > tcrit, Detta betyder att vi förkastar Ho.\n",
    "#Vi konstaterar att det sanna medelvärdet mu är under 22.\n",
    "#VIKTIGT ATT VÄLJA RÄTT Ho TEST. < > eller = för mu.\n",
    "\n"
   ]
  },
  {
   "cell_type": "code",
   "execution_count": 107,
   "metadata": {},
   "outputs": [
    {
     "name": "stdout",
     "output_type": "stream",
     "text": [
      "Hmm... Nollhypotesens t 1.721 är mindre än Alternativ Hypotesen 1.9469650323795373, \n"
     ]
    }
   ],
   "source": [
    "#7:6 igen\n",
    "mu0 = 30\n",
    "# H_0  <= 30\n",
    "# H_a  > 30\n",
    "n = 22\n",
    "x_bar = 36.6\n",
    "s = 15.9 # stickprovsstandard avikelsen.\n",
    "a = 0.05\n",
    "Tcrit = 1.721\n",
    "\n",
    "Ttest = (x_bar - mu0) / (s / np.sqrt(n)) # större t värde innebär en mindre probabilitet.\n",
    "\n",
    "print(f\"Hmm... Nollhypotesens t {Tcrit} är mindre än Alternativ Hypotesen {Ttest}, \")\n",
    "# Med en 95 % konfidens, förkastar vi Nollhypotesen då bilarna drar mer än 30 liter."
   ]
  },
  {
   "cell_type": "code",
   "execution_count": 108,
   "metadata": {},
   "outputs": [
    {
     "name": "stdout",
     "output_type": "stream",
     "text": [
      "H0: t kritiskta värde: -1.833 är lägre än HA -2.1314799698372515\n",
      "Alltså förkastar vi Nollhypotesen. (Kritiska värdet är lägre alltså närmare mitten)\n"
     ]
    }
   ],
   "source": [
    "# 7:7\n",
    "# pris för rå olja under 10 slumpmässiga dagar. \n",
    "n = 10\n",
    "s = 3.62 \n",
    "a = 0.05\n",
    "mu0 = 22\n",
    "x_bar = 19.56\n",
    "Tcrit = -1.833 # Sätter denna som negativ då vi letar efter värden som är mindre t värdet.\n",
    "# H_0 >= 22 \n",
    "# H_a <  22\n",
    "Ttest = (x_bar - mu0) / (s / np.sqrt(n))\n",
    "Ttest\n",
    "print(f\"H0: t kritiskta värde: {Tcrit} är lägre än HA {Ttest}\\nAlltså förkastar vi Nollhypotesen. (Kritiska värdet är lägre alltså närmare mitten)\")\n"
   ]
  },
  {
   "cell_type": "code",
   "execution_count": 109,
   "metadata": {},
   "outputs": [
    {
     "name": "stdout",
     "output_type": "stream",
     "text": [
      "H0 värde 1.691 och -1.691 är både högre och lägre än -1.3865811991639725, Alltås kan vi inte förkasta noll hypotesen.\n"
     ]
    },
    {
     "data": {
      "text/plain": [
       "(2028.107255377279, 2291.892744622721)"
      ]
     },
     "execution_count": 109,
     "metadata": {},
     "output_type": "execute_result"
    }
   ],
   "source": [
    "#7:8\n",
    "# H_0  = D\n",
    "# H_A != D\n",
    "mu0 = 2250 # Tidigare sanna medelvärdet\n",
    "n = 35\n",
    "x_bar = 2160\n",
    "s = 384\n",
    "a = 0.05\n",
    "Tcrit = 1.691\n",
    "Ttest = (x_bar-mu0)/(s/np.sqrt(n))\n",
    "Ttest\n",
    "#Har medelvikten ändrats?\n",
    "print(f\"H0 värde {Tcrit} och {-Tcrit} är både högre och lägre än {Ttest}, Alltås kan vi inte förkasta noll hypotesen.\")\n",
    "\n",
    "# Sanna medelvikten\n",
    "ta2 = 2.032\n",
    "upper = x_bar + ta2 * s / np.sqrt(n)\n",
    "lower = x_bar - ta2 * s / np.sqrt(n)\n",
    "lower, upper # medelvärdet ligger mellan 2291 och 2028 med 95% konfidens."
   ]
  },
  {
   "cell_type": "code",
   "execution_count": 110,
   "metadata": {},
   "outputs": [
    {
     "data": {
      "text/plain": [
       "(1.796, 1.3242443839434612)"
      ]
     },
     "execution_count": 110,
     "metadata": {},
     "output_type": "execute_result"
    }
   ],
   "source": [
    "# 7:9\n",
    "# I fisk affär undersöka sin \"genomsnittlige kund\"\n",
    "# H0 <= 40\n",
    "# HA > 40\n",
    "\n",
    "\n",
    "x = [34,32,25,46,77,56,45,42,42,61,34,52] # ålder på kund\n",
    "n = len(x) # mängd av kunder\n",
    "x_mean = sum(x)/n\n",
    "sample_variance = 0\n",
    "for i in range(n):\n",
    "    sample_variance += x[i]**2\n",
    "\n",
    "sample_v = sample_variance - (n*(x_mean**2))\n",
    "\n",
    "s = np.sqrt(sample_v/(n-1))\n",
    "\n",
    "\n",
    "# Kan man dra slutsatsen att den genomsnittlige kunden i affären är över 40 år.\n",
    "a = 0.05\n",
    "Tcrit = 1.796\n",
    "\n",
    "Ttest = (x_mean - 40) / (s/np.sqrt(n))\n",
    "Tcrit, Ttest\n",
    "# Vi förkastar inte nollhypotesen, Då Ttest ligger närmare \"mitten\""
   ]
  },
  {
   "cell_type": "code",
   "execution_count": 111,
   "metadata": {},
   "outputs": [
    {
     "name": "stdout",
     "output_type": "stream",
     "text": [
      "2.998 -1.940724326686035 1.895\n"
     ]
    },
    {
     "data": {
      "text/plain": [
       "68.49817515817483"
      ]
     },
     "execution_count": 111,
     "metadata": {},
     "output_type": "execute_result"
    }
   ],
   "source": [
    "# 7:13\n",
    "\n",
    "#H_0 >= 200\n",
    "#H_A < 200\n",
    "sample= [45,126,250,164,233,89,145,172]\n",
    "n = len(sample)\n",
    "x_bar = sum(sample)/n\n",
    "sample_variance = (sum([x**2 for x in sample])-n*x_bar**2)/(n-1)\n",
    "s = np.sqrt(sample_variance)\n",
    "sample_variance, s\n",
    "a = 0.01\n",
    "Tcrit = 2.998\n",
    "ab = 0.05\n",
    "Tcritb = 1.895\n",
    "\n",
    "Ttest = (x_bar - 200) / (s/np.sqrt(n))\n",
    "print(Tcrit,Ttest, Tcritb)\n",
    "\n",
    "#Tcrit är högre än Ttest... kan ej förkastas. #Tcritb är nära... Det förändras. Kan förkastas. För att Tcritb är mer extremt än Ttest\n",
    "s"
   ]
  },
  {
   "cell_type": "code",
   "execution_count": 112,
   "metadata": {},
   "outputs": [
    {
     "data": {
      "text/plain": [
       "(2.5694444444444438, 2.492)"
      ]
     },
     "execution_count": 112,
     "metadata": {},
     "output_type": "execute_result"
    }
   ],
   "source": [
    "# 7:14\n",
    "# H0 >= 5\n",
    "# HA < 5\n",
    "\n",
    "mu0 = 0.05\n",
    "n = 25\n",
    "x_bar = 0.087 \n",
    "s = 0.072\n",
    "a = 0.01\n",
    "Tcrit = 2.492\n",
    "\n",
    "Ttest = (x_bar - mu0)/(s/np.sqrt(n))\n",
    "Ttest, Tcrit\n",
    "# Vi kan inte förkasta Nollhypotesen då Ttest är närmare mitten än Tcrit\n",
    "# Ska igentligen förkastas."
   ]
  },
  {
   "cell_type": "code",
   "execution_count": 113,
   "metadata": {},
   "outputs": [
    {
     "data": {
      "text/plain": [
       "(1.5528115928017072, 1.833)"
      ]
     },
     "execution_count": 113,
     "metadata": {},
     "output_type": "execute_result"
    }
   ],
   "source": [
    "# 7:15.\n",
    "# H0 >= 4.9\n",
    "# HA < 4.9\n",
    "mu0 = 0.049\n",
    "sample = [0.088, 0.04,0.031,0.06,0.08,0.068,0.019,0.051,0.099,0.084]\n",
    "n = len(sample)\n",
    "x_bar = sum(sample)/len(sample)\n",
    "sample_variance = (sum([x**2 for x in sample])-n*x_bar**2)/(n-1)\n",
    "s = np.sqrt(sample_variance)\n",
    "sample_variance, s\n",
    "a = 0.05\n",
    "Tcrit = 1.833\n",
    "Ttest = (x_bar - mu0)/(s/np.sqrt(n))\n",
    "\n",
    "Ttest, Tcrit\n",
    "#Forskare har fel, vi kan inte förkasta nollhypotesen\n",
    "\n"
   ]
  },
  {
   "attachments": {},
   "cell_type": "markdown",
   "metadata": {},
   "source": [
    "Vissualisera att medelvärdet är i mitten av en standardfördelning. Och ta ett steg tillbaka och se vad vi faktiskt försöker visa."
   ]
  },
  {
   "cell_type": "code",
   "execution_count": 114,
   "metadata": {},
   "outputs": [
    {
     "data": {
      "text/plain": [
       "(2.624, -2.059167152452773)"
      ]
     },
     "execution_count": 114,
     "metadata": {},
     "output_type": "execute_result"
    }
   ],
   "source": [
    "# 7:16 \n",
    "# H0 >= 4000\n",
    "# HA < 4000\n",
    "mu0 = 4000\n",
    "n = 14\n",
    "x_bar = 3672\n",
    "s = 596\n",
    "a = 0.01 # hitte på siffra.\n",
    "Tcrit = 2.624\n",
    "\n",
    "Ttest = (x_bar - mu0)/(s/np.sqrt(n))\n",
    "\n",
    "Tcrit,Ttest\n",
    "# Vi kan förkasta nollhypotesen.\n",
    "# T crit större än T test."
   ]
  },
  {
   "cell_type": "code",
   "execution_count": 117,
   "metadata": {},
   "outputs": [
    {
     "data": {
      "text/plain": [
       "(1.64, 1.8073922282301282)"
      ]
     },
     "execution_count": 117,
     "metadata": {},
     "output_type": "execute_result"
    }
   ],
   "source": [
    "#7:18\n",
    "# H0 <= 50 ( ska vara 0.75)\n",
    "# HA > 50 ( ska vara 0.75)\n",
    "\n",
    "p0 = 3/4 #0.75\n",
    "n = 80\n",
    "phatt = 67/80 #0.8375\n",
    "\n",
    "a = 0.05\n",
    "Zcrit = 1.64\n",
    "\n",
    "Ztest = (phatt - p0) / np.sqrt(((p0*(1-p0))/n))\n",
    "Zcrit, Ztest\n",
    "# H0 Förkastas inte"
   ]
  },
  {
   "cell_type": "code",
   "execution_count": 124,
   "metadata": {},
   "outputs": [
    {
     "name": "stdout",
     "output_type": "stream",
     "text": [
      "1.64 1.0887992794669459\n",
      "0.3435411032312867 0.5919427677364552\n"
     ]
    }
   ],
   "source": [
    "# 7:19\n",
    "#0.4 röstade ja, \n",
    "# Interjuvar 62 pers, varav 29 svarade att de röstar ja. 29 = succsess.\n",
    "p0 = 0.4\n",
    "n = 62\n",
    "phatt = 29/62\n",
    "\n",
    "a = 0.05\n",
    "Zcrit = 1.64\n",
    "\n",
    "Ztest = (phatt - p0) / np.sqrt((p0*(1-p0))/n)\n",
    "Za2 = 1.96\n",
    "print(Zcrit, Ztest)\n",
    "upper = phatt + Za2 * np.sqrt(phatt*(1-phatt)/n)\n",
    "lower = phatt - Za2 * np.sqrt(phatt*(1-phatt)/n)\n",
    "\n",
    "# Vi kan säga att vi ej förkastar H0 då 1.088(Ztest) är inom 1.64(Zcrit)\n",
    "print(lower, upper)\n"
   ]
  },
  {
   "cell_type": "code",
   "execution_count": 127,
   "metadata": {},
   "outputs": [
    {
     "data": {
      "text/plain": [
       "(1.64, 1.7253243712550148)"
      ]
     },
     "execution_count": 127,
     "metadata": {},
     "output_type": "execute_result"
    }
   ],
   "source": [
    "# 7:20\n",
    "n = 129\n",
    "phatt = 87/129 #0.6744\n",
    "p0 = 6/10 # 0.6\n",
    "# Fler än 6/10 är nöjda.\n",
    "\n",
    "Zcrit = 1.64\n",
    "Ztest = (phatt - p0) / np.sqrt((p0*(1-p0)/n))\n",
    "Zcrit, Ztest\n",
    "\n",
    "# Man kan inte förkasta H0. eller inte. beror på vad man sätter alpha till"
   ]
  }
 ],
 "metadata": {
  "kernelspec": {
   "display_name": "Python 3",
   "language": "python",
   "name": "python3"
  },
  "language_info": {
   "codemirror_mode": {
    "name": "ipython",
    "version": 3
   },
   "file_extension": ".py",
   "mimetype": "text/x-python",
   "name": "python",
   "nbconvert_exporter": "python",
   "pygments_lexer": "ipython3",
   "version": "3.9.13 (tags/v3.9.13:6de2ca5, May 17 2022, 16:36:42) [MSC v.1929 64 bit (AMD64)]"
  },
  "orig_nbformat": 4,
  "vscode": {
   "interpreter": {
    "hash": "287876418b1177767fd3ee26a082a634abf206aa424861d57cf76d9abc857edd"
   }
  }
 },
 "nbformat": 4,
 "nbformat_minor": 2
}
