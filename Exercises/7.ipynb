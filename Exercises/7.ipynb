{
 "cells": [
  {
   "cell_type": "code",
   "execution_count": 1,
   "metadata": {},
   "outputs": [],
   "source": [
    "import numpy as np"
   ]
  },
  {
   "cell_type": "code",
   "execution_count": null,
   "metadata": {},
   "outputs": [],
   "source": []
  },
  {
   "cell_type": "code",
   "execution_count": 8,
   "metadata": {},
   "outputs": [
    {
     "name": "stdout",
     "output_type": "stream",
     "text": [
      "P(t<=-2.131)   =   P(t>=2.131)\n"
     ]
    }
   ],
   "source": [
    "# 7:7 Finns inspelad med lektion.\n",
    "# Börja med att kolla hypoteser\n",
    "# Frågan är priset på råolja, vi har fått medelvärde på ett stickprov under 10 dagar.\n",
    "s = 3.62 # stickprovsstandardavvikelsen. Är inte samma som standardavvikelse för population... Alltså Sigma.\n",
    "MUo = 22\n",
    "x = 19.56\n",
    "n = 10\n",
    "#Är medelvärdet lägre än 22 dollar?\n",
    "Ha = MUo<22 #Alternativ Hypotesen\n",
    "Ho = MUo>22 #Nol Hypotesen\n",
    "# Signifikansnivå\n",
    "a = 0.05\n",
    "\n",
    "t = (x-MUo)/(s/np.sqrt(n))\n",
    "print(f\"P(t<={round(t,3)})   =   P(t>={round(-t,3)})\"  ) # Kolla printen. Använder -t i slutet för att det ska vara positivt i printen bara.\n",
    "#Vi har nu t. Så vi kollar i t fördelnings tabellen efter ett värde som är 2.13\n",
    "\n",
    "#enklare sett är att räkna ut tcrit först\n",
    "#tcrit = ta n-1 = t0.05,9 = 1.83, i t fördelnings tabellen gå till. 0.05 med df 9\n",
    "\n",
    "# |t test| > tcrit, Detta betyder att vi förkastar Ho.\n",
    "#Vi konstaterar att det sanna medelvärdet mu är under 22.\n",
    "#VIKTIGT ATT VÄLJA RÄTT Ho TEST. < > eller = för mu.\n",
    "\n"
   ]
  }
 ],
 "metadata": {
  "kernelspec": {
   "display_name": "Statistical_Analysis_Alexander_Andersson-IabUt-VZ",
   "language": "python",
   "name": "python3"
  },
  "language_info": {
   "codemirror_mode": {
    "name": "ipython",
    "version": 3
   },
   "file_extension": ".py",
   "mimetype": "text/x-python",
   "name": "python",
   "nbconvert_exporter": "python",
   "pygments_lexer": "ipython3",
   "version": "3.9.13"
  },
  "orig_nbformat": 4,
  "vscode": {
   "interpreter": {
    "hash": "0a5449485d52d0dbc49e2e3ace10673241792dd720c3ee3e454038992c7d9c2b"
   }
  }
 },
 "nbformat": 4,
 "nbformat_minor": 2
}
