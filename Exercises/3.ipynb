{
 "cells": [
  {
   "cell_type": "code",
   "execution_count": 55,
   "metadata": {},
   "outputs": [],
   "source": [
    "import numpy as np\n",
    "import math\n",
    "from math import factorial as fa\n",
    "from math import e"
   ]
  },
  {
   "cell_type": "code",
   "execution_count": 56,
   "metadata": {},
   "outputs": [
    {
     "name": "stdout",
     "output_type": "stream",
     "text": [
      "E(X) = 4.0\n",
      "V(X) = 3.2\n",
      "S(X) = 1.79\n",
      "0.5886\n",
      "1.0000000000000013\n"
     ]
    }
   ],
   "source": [
    "#3:1\n",
    "# x~b(20, 0.2 (utfallet)) Tänk att X är hur många gånger, 0.2 är sannolikheten.\n",
    "# Så i detta fallet X = Vi rullar en tärning 20 gånger, B = 5 sidor på tärningen.\n",
    "n = 20\n",
    "p = 0.2\n",
    "#binomial fördelning ~\n",
    "\n",
    "# Väntevärde / Expected value, visat som E nedan.\n",
    "# \n",
    "\n",
    "# Vänte värde för binomialfördelning\n",
    "# E(X) = np \n",
    "# 20(n) * 0.2(p)\n",
    "expn = 20*0.2\n",
    "# q = chansen att det inte händer\n",
    "q = 1 - p\n",
    "\n",
    "#Varians\n",
    "v = expn*q\n",
    "\n",
    "#Standardavikelse\n",
    "s = np.sqrt(expn*q)\n",
    "\n",
    "# P(X >= 4) Sannolikheten av 20 experiment med 0,2 utfallet 4 eller mer. \n",
    "\n",
    "# P av X = 1 | P(X=x).\n",
    "x= 1\n",
    "#print(20*19*18*17*16*15*14*13*12*11*10*9*8*7*6*5*4*3*2*1)\n",
    "px = 0\n",
    "qx = 0\n",
    "\n",
    "for x in range(4,21):\n",
    "    px += math.factorial(n)/(math.factorial(x)*math.factorial(n-x))*(p**x)*(q**(n-x))\n",
    "\n",
    "for x in range(0,4):\n",
    "    qx += math.factorial(n)/(math.factorial(x)*math.factorial(n-x))*(p**x)*(q**(n-x))\n",
    "\n",
    "\n",
    "#Standardavvikelse för X\n",
    "print(f\"E(X) = {expn}\")\n",
    "print(f\"V(X) = {v}\")\n",
    "print(f\"S(X) = {round(s, 2)}\")\n",
    "print(round(px, 4))\n",
    "print(px+qx)"
   ]
  },
  {
   "cell_type": "code",
   "execution_count": 57,
   "metadata": {},
   "outputs": [
    {
     "name": "stdout",
     "output_type": "stream",
     "text": [
      "E(X) = 2.4\n",
      "V(X) = 1.68\n",
      "S(X) = 1.3\n",
      "0.5518\n"
     ]
    }
   ],
   "source": [
    "#3:2 \n",
    "#X~B(8, 0.3) \n",
    "\n",
    "n = 8\n",
    "p = 0.3\n",
    "q = 1-p\n",
    "\n",
    "#Väntevärde = \n",
    "expn = 8*0.3\n",
    "\n",
    "# Varians\n",
    "v = expn*q\n",
    "\n",
    "# Standardavvikelse\n",
    "s = np.sqrt(expn*q)\n",
    "\n",
    "# P(X <= 2)\n",
    "px = 0\n",
    "x = 1\n",
    "for x in range(0,3):\n",
    "    px += math.factorial(n)/(math.factorial(x)*math.factorial(n-x))*(p**x)*(q**(n-x))\n",
    "\n",
    "print(f\"E(X) = {expn}\")\n",
    "print(f\"V(X) = {v}\")\n",
    "print(f\"S(X) = {round(s, 2)}\")\n",
    "print(round(px, 4))\n",
    "\n"
   ]
  },
  {
   "cell_type": "code",
   "execution_count": 58,
   "metadata": {},
   "outputs": [
    {
     "name": "stdout",
     "output_type": "stream",
     "text": [
      "E(X) = 6.0\n",
      "V(X) = 2.4000000000000004\n",
      "S(X) = 1.55\n",
      "0.1646\n"
     ]
    }
   ],
   "source": [
    "#3:3\n",
    "n = 10\n",
    "p = 0.6\n",
    "q = 1-p\n",
    "\n",
    "expn = n*p\n",
    "\n",
    "v = expn*q\n",
    "\n",
    "s = np.sqrt(expn*q)\n",
    "\n",
    "px = 0\n",
    "\n",
    "for x in range(2,5):\n",
    "    px += math.factorial(n)/(math.factorial(x)*math.factorial(n-x))*(p**x)*(q**(n-x))\n",
    "\n",
    "\n",
    "print(f\"E(X) = {expn}\")\n",
    "print(f\"V(X) = {v}\")\n",
    "print(f\"S(X) = {round(s, 2)}\")\n",
    "print(round(px, 4))"
   ]
  },
  {
   "cell_type": "code",
   "execution_count": 59,
   "metadata": {},
   "outputs": [
    {
     "name": "stdout",
     "output_type": "stream",
     "text": [
      "genomsnitt sälj = 5.0\n",
      "Sannolikhet att man säljer högst 3 = 0.2578386591160153\n"
     ]
    }
   ],
   "source": [
    "# 3:4\n",
    "\n",
    "n = 100\n",
    "p = 0.05\n",
    "q = 1-p\n",
    "px = 0\n",
    "\n",
    "for x in range(0,4):\n",
    "    px += math.factorial(n)/(math.factorial(x)*math.factorial(n-x))*(p**x)*(q**(n-x))\n",
    "\n",
    "\n",
    "#Genomsnitt sälj\n",
    "print(f\"genomsnitt sälj = {n*p}\")\n",
    "print(f\"Sannolikhet att man säljer högst 3 = {px}\")"
   ]
  },
  {
   "cell_type": "code",
   "execution_count": 60,
   "metadata": {},
   "outputs": [
    {
     "name": "stdout",
     "output_type": "stream",
     "text": [
      "E(X) = 1.0\n",
      "V(X) = 0.4444444444444444\n",
      "S(X) = 0.67\n",
      "0.7777777777777778\n"
     ]
    }
   ],
   "source": [
    "# 3:5\n",
    "# X~HG(5,2,10).\n",
    "# X~HG(n,R,N) \n",
    "# HG är hypergeometrisk fördelning\n",
    "\n",
    "n = 5 # Antal dragningar\n",
    "R = 2 # antal lyckade utfall\n",
    "N = 10 # populatoins storlek / antal totalt. \n",
    "\n",
    "#Väntevärde\n",
    "expn = n*(R/N)\n",
    "\n",
    "#varians\n",
    "v = n*(R/N)*((1-(R/N))*(N-n)/(N-1))\n",
    "\n",
    "#standardavvikelse\n",
    "s = np.sqrt(n*(R/N*((1-R/N)*(N-n)/(N-1))))\n",
    "\n",
    "# massfunction\n",
    "\n",
    "\n",
    "\n",
    "x = 0\n",
    "\n",
    "px = 0\n",
    "fR = math.factorial(R)\n",
    "fN = math.factorial(N)\n",
    "fn = math.factorial(n)\n",
    "fNmR = math.factorial(N-R)\n",
    "\n",
    "for x in range(1,3):\n",
    "\n",
    "    fx = math.factorial(x)\n",
    "\n",
    "    fnmx = math.factorial(n-x)\n",
    "    Rx = fR / (fx * math.factorial(R-x))\n",
    "    NRnx = fNmR / (fnmx * math.factorial((N - R) - (n - x)))\n",
    "    Nn = fN / (fn * math.factorial(N - n) )\n",
    "    px += (Rx * NRnx) / Nn\n",
    "\n",
    "\n",
    "\n",
    "\n",
    "\n",
    "print(f\"E(X) = {expn}\")\n",
    "print(f\"V(X) = {v}\")\n",
    "print(f\"S(X) = {round(s, 2)}\")\n",
    "print(px)"
   ]
  },
  {
   "attachments": {
    "image.png": {
     "image/png": "[encoded data removed]"
    }
   },
   "cell_type": "markdown",
   "metadata": {},
   "source": [
    "![image.png](attachment:image.png)"
   ]
  },
  {
   "cell_type": "code",
   "execution_count": 61,
   "metadata": {},
   "outputs": [
    {
     "name": "stdout",
     "output_type": "stream",
     "text": [
      "E(X) = 1.4\n",
      "V(X) = 0.64\n",
      "S(X) = 0.8\n",
      "0.554\n"
     ]
    }
   ],
   "source": [
    "#3:6\n",
    "# X~HG(3,7,15)\n",
    "n = 3 # Hur många man drar\n",
    "R = 7 # Antal korrekta. \n",
    "N = 15 # Stora populationen, Antalet\n",
    "\n",
    "#Beräkna Väntevärde\n",
    "expn = n*(R/N)\n",
    "\n",
    "# Varians\n",
    "v = (n* ( R / N ) * ((1- (R/N) ))* (N-n)/(N-1))\n",
    "\n",
    "#Standardavvikelse\n",
    "s = np.sqrt(n* ( R / N ) * ((1- (R/N) ))* (N-n)/(N-1))\n",
    "\n",
    "\n",
    "#\n",
    "def p(x):\n",
    "    binom_Rx = fa(R) / (fa(x) * fa(R-x))\n",
    "    binom_NRnx = fa(N-R) / (fa(n-x) * fa((N-R) - (n-x)))\n",
    "    binom_Nn = fa(N) / (fa(n) * fa(N-n))\n",
    "    return (binom_Rx * binom_NRnx) / binom_Nn\n",
    "\n",
    "print(f\"E(X) = {expn}\")\n",
    "print(f\"V(X) = {round(v,2)}\")\n",
    "print(f\"S(X) = {round(s,2)}\")\n",
    "print(round(p(0) + p(1), 3))"
   ]
  },
  {
   "cell_type": "code",
   "execution_count": 62,
   "metadata": {},
   "outputs": [
    {
     "name": "stdout",
     "output_type": "stream",
     "text": [
      "E(X) = 2.0\n",
      "V(X) = 0.9474\n",
      "S(X) = 0.9733\n",
      "0.8911\n"
     ]
    }
   ],
   "source": [
    "#X~HG(8 , 5, 20)\n",
    "n = 8\n",
    "R = 5\n",
    "N = 20\n",
    "\n",
    "#Väntevärde\n",
    "expn = n*(R/N)\n",
    "\n",
    "# Varians\n",
    "v = n*(R/N)*((1 -(R/N))*(N-n)/(N-1))\n",
    "\n",
    "# Standardavvikelse\n",
    "s = np.sqrt(n*(R/N)*((1 -(R/N))*(N-n)/(N-1)))\n",
    "\n",
    "# \n",
    "def p(x):\n",
    "    binom_Rx = fa(R) / (fa(x) * (fa(R-x)))\n",
    "    binom_NRnx = fa(N-R) / (fa(n-x) * fa((N-R)-(n-x)))\n",
    "    binom_Nn = fa(N) / (fa(n) * (fa(N-n)))  \n",
    "    return binom_Rx * binom_NRnx / binom_Nn\n",
    "\n",
    "print(f\"E(X) = {expn}\")\n",
    "print(f\"V(X) = {round(v,4)}\")\n",
    "print(f\"S(X) = {round(s,4)}\")\n",
    "print(round(p(1) + p(2) + p(3), 4))"
   ]
  },
  {
   "attachments": {},
   "cell_type": "markdown",
   "metadata": {},
   "source": [
    "$\\mu$"
   ]
  },
  {
   "cell_type": "code",
   "execution_count": 63,
   "metadata": {},
   "outputs": [
    {
     "name": "stdout",
     "output_type": "stream",
     "text": [
      "Varians = 2\n",
      "STD = 1.4142135623730951\n",
      " X = 1 0.2706705664732254\n",
      " X <= 1 0.4060058497098381\n",
      " X >= 1 0.8646647167633873\n"
     ]
    }
   ],
   "source": [
    "# 3:14\n",
    "# X~P() mu = 2\n",
    "\n",
    "mu = 2\n",
    "\n",
    "\n",
    "# Varians\n",
    "v = mu\n",
    "# Standard deviation\n",
    "s = np.sqrt(mu)\n",
    "\n",
    "# Possion massfunction (X = 1)\n",
    "def p(x):\n",
    "    emu = (e**-mu)\n",
    "    mux = mu**x\n",
    "    fx = fa(x)\n",
    "    return emu*(mux/fx)\n",
    "\n",
    "\n",
    "print(f\"Varians = {v}\")\n",
    "print(f\"STD = {s}\")\n",
    "print(f\" X = 1 {p(1)}\")\n",
    "print(f\" X <= 1 {p(0)+p(1)}\")\n",
    "print(f\" X >= 1 {1-p(0)}\")\n",
    "\n"
   ]
  },
  {
   "cell_type": "code",
   "execution_count": 86,
   "metadata": {},
   "outputs": [
    {
     "name": "stdout",
     "output_type": "stream",
     "text": [
      "0.212469265750147\n",
      "0.1256891232575458\n",
      "0.7064384496412808\n",
      "0.29356155035871934\n"
     ]
    }
   ],
   "source": [
    "# 3:15\n",
    "\n",
    "#X~P(3,6). Beräkna P(X = 3)\n",
    "# mu är alltså 3.6\n",
    "\n",
    "# Expected value\n",
    "mu = 3.6 # sida 80 i boken.\n",
    "\n",
    "# mu är medelvärde.\n",
    "\n",
    "\n",
    "def p(x):\n",
    "    emu = e**-mu\n",
    "    mux = mu**x\n",
    "    fx = fa(x)\n",
    "    return emu*(mux/fx)\n",
    "\n",
    "print(p(3)) # a\n",
    "print(p(0)+p(1)) # b\n",
    "count = 0\n",
    "for i in range(5, 36): # c X >= 5\n",
    "    count += p(i)\n",
    "print(count)"
   ]
  },
  {
   "cell_type": "code",
   "execution_count": 99,
   "metadata": {},
   "outputs": [
    {
     "name": "stdout",
     "output_type": "stream",
     "text": [
      "Step: 0, P(X = x) 0.0202, P(X <= x) 0.0202\n",
      "Step: 1, P(X = x) 0.0789, P(X <= x) 0.0992\n",
      "Step: 2, P(X = x) 0.1539, P(X <= x) 0.2531\n",
      "Step: 3, P(X = x) 0.2001, P(X <= x) 0.4532\n",
      "Step: 4, P(X = x) 0.1951, P(X <= x) 0.6484\n",
      "Step: 5, P(X = x) 0.1522, P(X <= x) 0.8006\n",
      "Step: 6, P(X = x) 0.0989, P(X <= x) 0.8995\n",
      "Step: 7, P(X = x) 0.0551, P(X <= x) 0.9546\n",
      "Step: 8, P(X = x) 0.0269, P(X <= x) 0.9815\n",
      "Step: 9, P(X = x) 0.0116, P(X <= x) 0.9931\n",
      "Step: 10, P(X = x) 0.0045, P(X <= x) 0.9977\n"
     ]
    }
   ],
   "source": [
    "#3:16\n",
    "mu = 3.9\n",
    "\n",
    "def p(x):\n",
    "    emu = e**-mu\n",
    "    mux = mu**x\n",
    "    fx = fa(x)\n",
    "    return emu*(mux/fx)\n",
    "count = 0\n",
    "lin = []\n",
    "lin2 = []\n",
    "for i in range(11):\n",
    "    count += p(i)\n",
    "    lin.append(p(i))\n",
    "    lin2.append(count)\n",
    "    print(f\"Step: {i}, P(X = x) {round(p(i), 4)}, P(X <= x) {round(count, 4)}\")\n",
    "\n"
   ]
  },
  {
   "cell_type": "code",
   "execution_count": 104,
   "metadata": {},
   "outputs": [
    {
     "data": {
      "text/plain": [
       "[<matplotlib.lines.Line2D at 0x25796607760>]"
      ]
     },
     "execution_count": 104,
     "metadata": {},
     "output_type": "execute_result"
    },
    {
     "data": {
      "image/png": "[encoded data removed]",
      "text/plain": [
       "<Figure size 640x480 with 1 Axes>"
      ]
     },
     "metadata": {},
     "output_type": "display_data"
    }
   ],
   "source": [
    "from matplotlib import pyplot as plt\n",
    "\n",
    "# plot for 3:16\n",
    "plt.plot(lin) \n",
    "plt.plot(lin2)"
   ]
  }
 ],
 "metadata": {
  "kernelspec": {
   "display_name": "Statistical_Analysis_Alexander_Andersson-IabUt-VZ",
   "language": "python",
   "name": "python3"
  },
  "language_info": {
   "codemirror_mode": {
    "name": "ipython",
    "version": 3
   },
   "file_extension": ".py",
   "mimetype": "text/x-python",
   "name": "python",
   "nbconvert_exporter": "python",
   "pygments_lexer": "ipython3",
   "version": "3.9.13 (tags/v3.9.13:6de2ca5, May 17 2022, 16:36:42) [MSC v.1929 64 bit (AMD64)]"
  },
  "orig_nbformat": 4,
  "vscode": {
   "interpreter": {
    "hash": "0a5449485d52d0dbc49e2e3ace10673241792dd720c3ee3e454038992c7d9c2b"
   }
  }
 },
 "nbformat": 4,
 "nbformat_minor": 2
}
