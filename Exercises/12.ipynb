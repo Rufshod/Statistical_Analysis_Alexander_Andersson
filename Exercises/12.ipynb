{
 "cells": [
  {
   "cell_type": "code",
   "execution_count": 25,
   "metadata": {},
   "outputs": [],
   "source": [
    "import pandas as pd\n",
    "from math import sqrt as sqrt"
   ]
  },
  {
   "cell_type": "code",
   "execution_count": 26,
   "metadata": {},
   "outputs": [],
   "source": [
    "# n, stickprovspopulation\n",
    "# r, stickprovskorrelation\n",
    "# r^2 = Förklaringsgrad / Determinationskoefficient\n",
    "# SSx = Sum of squares of x\n",
    "# SSy = Sum of squares of y\n",
    "# SSxy = sum of squares of xy\n",
    "# a = \n",
    "# b ="
   ]
  },
  {
   "cell_type": "code",
   "execution_count": 52,
   "metadata": {},
   "outputs": [
    {
     "name": "stdout",
     "output_type": "stream",
     "text": [
      " SSx = 17.5,\n",
      " SSy = 0.455,\n",
      " SSxy = 2.65,\n",
      " Sxy = 0.53,\n",
      " a = 1.82,\n",
      " b = 0.1514,\n",
      " r = 0.9391,\n",
      " r2= 0.8819\n"
     ]
    },
    {
     "data": {
      "text/plain": [
       "2.8798000000000004"
      ]
     },
     "execution_count": 52,
     "metadata": {},
     "output_type": "execute_result"
    }
   ],
   "source": [
    "# 12:9\n",
    "# x = oberoende variabel\n",
    "# y = beroende \n",
    "# sida 325\n",
    "df = pd.DataFrame()\n",
    "\n",
    "df[\"Month\"] = [1,2,3,4,5,6]\n",
    "df[\"revenue\"] = [1.9,2.2,2.2,2.5,2.7,2.6]\n",
    "\n",
    "xi = [1,2,3,4,5,6]\n",
    "yi = [1.9,2.2,2.2,2.5,2.7,2.6]\n",
    "x_mean = df[\"Month\"].mean()\n",
    "y_mean = df[\"revenue\"].mean()\n",
    "#xi - xmean\n",
    "ximx = []\n",
    "yimy = []\n",
    "ximx2 = []\n",
    "yimy2 = []\n",
    "ximyi = []\n",
    "for i in range(len(xi)):\n",
    "    ximx.append(xi[i]-x_mean)\n",
    "for i in range(len(yi)):\n",
    "    yimy.append(round(yi[i]-y_mean,2))\n",
    "for i in range(len(xi)):\n",
    "    ximx2.append((xi[i]-x_mean)**2)\n",
    "for i in range(len(yi)):\n",
    "    yimy2.append(round((yi[i]-y_mean)**2,4))\n",
    "\n",
    "for i in range(len(yi)):\n",
    "    ximyi.append(round((ximx[i]*yimy[i]),4))\n",
    "\n",
    "n = 6\n",
    "SSx = sum(ximx2)\n",
    "SSy = sum(yimy2)\n",
    "SSxy = 0\n",
    "for i in range(len(ximx)):\n",
    "    SSxy += ximx[i]*yimy[i]\n",
    "Sxy = round(SSxy/(n-1),4) # Totalt onödig?\n",
    "b =  round(SSxy/SSx, 4)\n",
    "a = round(y_mean - (b*x_mean), 2)\n",
    "r = round((n-1)*(Sxy)/sqrt(SSx * SSy), 4) \n",
    "r2 = round(r**2,4)\n",
    "print(f\" {SSx = },\\n {SSy = },\\n {SSxy = },\\n {Sxy = },\\n {a = },\\n {b = },\\n {r = },\\n {r2= }\")\n",
    "\n",
    "# Svaret.. \n",
    "x = 7 # Vi ville kolla månad 7\n",
    "yhatt = a + b * 7\n",
    "#Vi extrapolearar\n",
    "yhatt"
   ]
  },
  {
   "cell_type": "code",
   "execution_count": 50,
   "metadata": {},
   "outputs": [
    {
     "ename": "ImportError",
     "evalue": "cannot import name 'lingress' from 'scipy' (c:\\Users\\Agam\\.virtualenvs\\Statistical_Analysis_Alexander_Andersson-IabUt-VZ\\lib\\site-packages\\scipy\\__init__.py)",
     "output_type": "error",
     "traceback": [
      "\u001b[1;31m---------------------------------------------------------------------------\u001b[0m",
      "\u001b[1;31mImportError\u001b[0m                               Traceback (most recent call last)",
      "Cell \u001b[1;32mIn[50], line 1\u001b[0m\n\u001b[1;32m----> 1\u001b[0m \u001b[39mfrom\u001b[39;00m \u001b[39mscipy\u001b[39;00m \u001b[39mimport\u001b[39;00m lingress\n\u001b[0;32m      2\u001b[0m lingress(df[\u001b[39m\"\u001b[39m\u001b[39mMonth\u001b[39m\u001b[39m\"\u001b[39m], df[\u001b[39m\"\u001b[39m\u001b[39mrevenue\u001b[39m\u001b[39m\"\u001b[39m])\n",
      "\u001b[1;31mImportError\u001b[0m: cannot import name 'lingress' from 'scipy' (c:\\Users\\Agam\\.virtualenvs\\Statistical_Analysis_Alexander_Andersson-IabUt-VZ\\lib\\site-packages\\scipy\\__init__.py)"
     ]
    }
   ],
   "source": [
    "from scipy import lingress\n",
    "lingress(df[\"Month\"], df[\"revenue\"])"
   ]
  },
  {
   "attachments": {},
   "cell_type": "markdown",
   "metadata": {},
   "source": [
    "## Sida 333 i boken\n",
    "\n",
    "### $r^2$ Är hur nära punkterna ligger till regressions linjen. Är alla punkter på strecket så blir $r^2$ 1.  \n",
    "\n",
    "sum(yi - ystreck)**2 - total variations genomsnittlig y.\n",
    "yhatt är skattningen, alltså värdet på linjet. \n",
    "\n",
    "sum(yi -ystreck)**2 - sum(y - yhatt) ** 2,  \n",
    "Den förlkarade variationen minus icke förklariga variationen ger oss den sanna variationen."
   ]
  }
 ],
 "metadata": {
  "kernelspec": {
   "display_name": "Python 3",
   "language": "python",
   "name": "python3"
  },
  "language_info": {
   "codemirror_mode": {
    "name": "ipython",
    "version": 3
   },
   "file_extension": ".py",
   "mimetype": "text/x-python",
   "name": "python",
   "nbconvert_exporter": "python",
   "pygments_lexer": "ipython3",
   "version": "3.9.13 (tags/v3.9.13:6de2ca5, May 17 2022, 16:36:42) [MSC v.1929 64 bit (AMD64)]"
  },
  "orig_nbformat": 4,
  "vscode": {
   "interpreter": {
    "hash": "287876418b1177767fd3ee26a082a634abf206aa424861d57cf76d9abc857edd"
   }
  }
 },
 "nbformat": 4,
 "nbformat_minor": 2
}
