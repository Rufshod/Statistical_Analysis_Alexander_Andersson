{
 "cells": [
  {
   "cell_type": "code",
   "execution_count": null,
   "metadata": {},
   "outputs": [],
   "source": [
    "# 2:1\n",
    "# Händelserna A och B har sannolikheterna P(A) = 0,4 och P(B) = 0.7\n",
    "\n",
    "#a) Kan händelserna vara komplement.\n",
    "    # Ja. Då P(A) och P(B) har båda i 0.1 0.2 0.3 och 0.4\n",
    "#b) Kan händelserna vara disjunkta\n",
    "    # Ja då P(B) innehåller 0.5 0.6 och 0.7 som inte finns i Händelse A.\n",
    "\n",
    "# FEL. Korrekt svar är mycket enklare.\n",
    "# a) Händelserna kan inte vara komplement då A + B != 1\n",
    "# b) De kan inte vara disjunkta då ett krav att vara disjunkt är att A + B <= 1"
   ]
  },
  {
   "cell_type": "code",
   "execution_count": 5,
   "metadata": {},
   "outputs": [
    {
     "name": "stdout",
     "output_type": "stream",
     "text": [
      "Union aub = 0.7 snitt anb = 0.0\n"
     ]
    }
   ],
   "source": [
    "# 2:2\n",
    "# Två disjunkta händelser A = 0.4 och B = 0.3 Vad blir anb och aub\n",
    "a = 0.4\n",
    "b = 0.3\n",
    "aub = a + b\n",
    "anb = (a + b) - aub\n",
    "print(f\"Union {aub = } snitt {anb = }\")"
   ]
  },
  {
   "cell_type": "code",
   "execution_count": null,
   "metadata": {},
   "outputs": [],
   "source": [
    "# 2:3"
   ]
  },
  {
   "cell_type": "code",
   "execution_count": null,
   "metadata": {},
   "outputs": [],
   "source": [
    "# 2:8"
   ]
  }
 ],
 "metadata": {
  "kernelspec": {
   "display_name": "Python 3",
   "language": "python",
   "name": "python3"
  },
  "language_info": {
   "codemirror_mode": {
    "name": "ipython",
    "version": 3
   },
   "file_extension": ".py",
   "mimetype": "text/x-python",
   "name": "python",
   "nbconvert_exporter": "python",
   "pygments_lexer": "ipython3",
   "version": "3.9.13 (tags/v3.9.13:6de2ca5, May 17 2022, 16:36:42) [MSC v.1929 64 bit (AMD64)]"
  },
  "orig_nbformat": 4,
  "vscode": {
   "interpreter": {
    "hash": "287876418b1177767fd3ee26a082a634abf206aa424861d57cf76d9abc857edd"
   }
  }
 },
 "nbformat": 4,
 "nbformat_minor": 2
}
