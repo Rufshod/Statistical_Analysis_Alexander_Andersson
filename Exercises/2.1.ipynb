{
 "cells": [
  {
   "attachments": {},
   "cell_type": "markdown",
   "metadata": {},
   "source": [
    "- **2:1**\n",
    "- Händelsärna A och B har sannolikheterna P(A) = 0.4 och P(B) = 0.7.\n",
    "\n",
    "- a) \n",
    "Kan händelserna vara komplement?\n",
    "Nej då A + B inte är 1. Emligt  subtraktionsregeln är sannolikheten alltid 1 att en händelse eller dess\n",
    "komplementhöndelse inträffar.\n",
    "\n",
    "- b)\n",
    "Kan händelserna vara disjunkta?\n",
    "Nej. Då Snittet av A och B inte är 0 \n",
    "FACIT: Händelserna A och B kan inte heller vara disjunkta, eftersom ett nödvändigt villkor för detta 'r att P(A) + P(B) <= 1\n"
   ]
  },
  {
   "attachments": {},
   "cell_type": "markdown",
   "metadata": {},
   "source": [
    "- **2:2**\n",
    "- För Två händelser A och B vet vi att \n",
    "- P(A) = 0,4\n",
    "- P(B) = 0,3\n",
    "- Vad blir $P(A \\cup B)$\n",
    " - 1.3333\n",
    "- och Vad blir\n",
    "- $P(A \\cap B)$"
   ]
  },
  {
   "cell_type": "code",
   "execution_count": 1,
   "metadata": {},
   "outputs": [
    {
     "name": "stdout",
     "output_type": "stream",
     "text": [
      "1.3333333333333335\n"
     ]
    }
   ],
   "source": [
    "# a u b\n",
    "A = 0.4\n",
    "B = 0.3\n",
    "# Union regeln:\n",
    "print(A + B - A)"
   ]
  }
 ],
 "metadata": {
  "kernelspec": {
   "display_name": "Statistical_Analysis_Alexander_Andersson-o_9eJxXu",
   "language": "python",
   "name": "python3"
  },
  "language_info": {
   "name": "python",
   "version": "3.9.13 (tags/v3.9.13:6de2ca5, May 17 2022, 16:36:42) [MSC v.1929 64 bit (AMD64)]"
  },
  "orig_nbformat": 4,
  "vscode": {
   "interpreter": {
    "hash": "055f1f656af37816921c1ffffa019836b4b9e37f2b696235696b50fe72134004"
   }
  }
 },
 "nbformat": 4,
 "nbformat_minor": 2
}
