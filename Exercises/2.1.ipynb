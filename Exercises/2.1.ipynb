{
 "cells": [
  {
   "cell_type": "code",
   "execution_count": 44,
   "metadata": {},
   "outputs": [],
   "source": [
    "import pandas as pd"
   ]
  },
  {
   "attachments": {},
   "cell_type": "markdown",
   "metadata": {},
   "source": [
    "- **2:1**\n",
    "- Händelsärna A och B har sannolikheterna P(A) = 0.4 och P(B) = 0.7.\n",
    "\n",
    "- a) \n",
    "- Kan händelserna vara komplement?\n",
    "- Nej då A + B inte är 1. Emligt  subtraktionsregeln är sannolikheten alltid 1 att en händelse eller dess\n",
    "- komplementhöndelse inträffar.\n",
    "\n",
    "- b)\n",
    "- Kan händelserna vara disjunkta?\n",
    "- Nej. Då Snittet av A och B inte är 0 \n",
    "- FACIT: Händelserna A och B kan inte heller vara disjunkta, eftersom ett nödvändigt villkor för detta är att P(A) + P(B) <= 1\n"
   ]
  },
  {
   "attachments": {},
   "cell_type": "markdown",
   "metadata": {},
   "source": [
    "- **2:2**\n",
    "- För Två händelser A och B vet vi att \n",
    "- P(A) = 0,4\n",
    "- P(B) = 0,3\n",
    "- Vad blir $P(A \\cup B)$\n",
    " - 0,58\n",
    "- och Vad blir\n",
    "- $P(A \\cap B)$\n",
    "- 0,12"
   ]
  },
  {
   "cell_type": "code",
   "execution_count": 15,
   "metadata": {},
   "outputs": [
    {
     "name": "stdout",
     "output_type": "stream",
     "text": [
      "För att få Unionen behöver vi ta A + B = 0.7\n",
      "Snittet är A + B - Unionen = 0.0\n"
     ]
    }
   ],
   "source": [
    "# a u b\n",
    "A = 0.4\n",
    "B = 0.3\n",
    "U = A + B\n",
    "# Union regeln:\n",
    "print(f\"För att få Unionen behöver vi ta A + B = {A+B}\")\n",
    "print(f\"Unionen är A + B - Snittet = {A + B - U}\")"
   ]
  },
  {
   "cell_type": "code",
   "execution_count": 38,
   "metadata": {},
   "outputs": [
    {
     "name": "stdout",
     "output_type": "stream",
     "text": [
      " aub = (A + B) = 0.44999999999999996\n"
     ]
    }
   ],
   "source": [
    "# 2.3\n",
    "# För två händelser A och B vet vi att P(A) = 0.3 och P(AuB) = 0.5\n",
    "#a) Kan det vara så att P(B) = 0.15 Nej, A + B = 0.45, Ifall B är 0.2 är aub 0.5\n",
    "\n",
    "#Vi testar och ser ifall P(B) = 0.15\n",
    "A = 0.3\n",
    "B = 0.15\n",
    "aub = 0.5\n",
    "s = A + B - aub\n",
    "\n",
    "print(f\" aub = {(A + B) = }\")\n",
    "\n",
    "\n",
    "#b) Vad måste gälla för det ska vara så att P(B) = 0.2?\n",
    "# A och be måste vara disjunkta."
   ]
  },
  {
   "cell_type": "code",
   "execution_count": 42,
   "metadata": {},
   "outputs": [
    {
     "name": "stdout",
     "output_type": "stream",
     "text": [
      "0.9\n"
     ]
    }
   ],
   "source": [
    "#2,8\n",
    "S1 = 0.8\n",
    "S2 = 0.6\n",
    "Sb = 0.5\n",
    "#Union regeln. / Additionsregeln.\n",
    "print(round(S1+S2-Sb,1))\n"
   ]
  },
  {
   "cell_type": "code",
   "execution_count": 54,
   "metadata": {},
   "outputs": [
    {
     "data": {
      "text/plain": [
       "           Åk 1Åk 2Åk 3\n",
       "Män                  55\n",
       "Kvinnor              41\n",
       "dtype: object"
      ]
     },
     "execution_count": 54,
     "metadata": {},
     "output_type": "execute_result"
    }
   ],
   "source": [
    "#2:10\n",
    "data = {\"\":[\"Åk 1\", \"Åk 2\", \"Åk 3\"], \"Män\" :[19, 18, 18], \"Kvinnor\":[14, 16, 11]}\n",
    "df = pd.DataFrame(data)\n",
    "df.sum()"
   ]
  }
 ],
 "metadata": {
  "kernelspec": {
   "display_name": "Statistical_Analysis_Alexander_Andersson-o_9eJxXu",
   "language": "python",
   "name": "python3"
  },
  "language_info": {
   "codemirror_mode": {
    "name": "ipython",
    "version": 3
   },
   "file_extension": ".py",
   "mimetype": "text/x-python",
   "name": "python",
   "nbconvert_exporter": "python",
   "pygments_lexer": "ipython3",
   "version": "3.9.13"
  },
  "orig_nbformat": 4,
  "vscode": {
   "interpreter": {
    "hash": "055f1f656af37816921c1ffffa019836b4b9e37f2b696235696b50fe72134004"
   }
  }
 },
 "nbformat": 4,
 "nbformat_minor": 2
}
