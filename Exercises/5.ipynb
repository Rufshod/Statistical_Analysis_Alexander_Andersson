{
 "cells": [
  {
   "cell_type": "code",
   "execution_count": 1,
   "metadata": {},
   "outputs": [],
   "source": [
    "import numpy as np"
   ]
  },
  {
   "attachments": {},
   "cell_type": "markdown",
   "metadata": {},
   "source": [
    "- vad är standardavvikelsen för stickprovsmedelvärdet #card #statistics\n",
    "    - $S(X) = \\sqrt {\\sigma^2} = \\sigma$\n",
    "    - $S(\\overline X) = \\frac {\\sigma} {\\sqrt {n}}$\n",
    "    - n är stickprovsstorleken\n",
    "    - $S(\\overline X)$ kallas också medelvärdets medelfel eller standardfel (standard deviation of the mean)"
   ]
  },
  {
   "cell_type": "code",
   "execution_count": 2,
   "metadata": {},
   "outputs": [
    {
     "data": {
      "text/plain": [
       "(4.0, 240)"
      ]
     },
     "execution_count": 2,
     "metadata": {},
     "output_type": "execute_result"
    }
   ],
   "source": [
    "#5:7\n",
    "n = 64\n",
    "mu = 240\n",
    "sigma = 32\n",
    "s = sigma / np.sqrt(n) #S(X) Medelfelet. Standard error of the mean = stickprovets standardavikelse.\n",
    "e = mu # E(X)\n",
    "s, e\n",
    "# X~N(240, 4)"
   ]
  },
  {
   "cell_type": "code",
   "execution_count": 3,
   "metadata": {},
   "outputs": [
    {
     "data": {
      "text/plain": [
       "(0.75, -0.25)"
      ]
     },
     "execution_count": 3,
     "metadata": {},
     "output_type": "execute_result"
    }
   ],
   "source": [
    "#5:8\n",
    "pg = 243\n",
    "pl = 239\n",
    "zg = (pg - mu) / (sigma / np.sqrt(n))\n",
    "zl = (pl - mu) / (sigma / np.sqrt(n))\n",
    "zg, zl\n",
    "# P(X > 234) = 0.75 = 1 - 0.7734 = 0.2266\n",
    "# P(X < 239) = -0.25 =  0.4013\n"
   ]
  },
  {
   "cell_type": "code",
   "execution_count": 4,
   "metadata": {},
   "outputs": [
    {
     "data": {
      "text/plain": [
       "0.383"
      ]
     },
     "execution_count": 4,
     "metadata": {},
     "output_type": "execute_result"
    }
   ],
   "source": [
    "#5:9\n",
    "# Sanna medelvärdet = mu\n",
    "\n",
    "zg = (242-mu)/(sigma / np.sqrt(n))\n",
    "zl = (238-mu)/(sigma / np.sqrt(n))\n",
    "zg, zl # = 0.5 , -0.5\n",
    "# 1 - 06915. \n",
    "zg = 1 - 0.3085\n",
    "zl = 0.3085\n",
    "zg - zl\n",
    "\n"
   ]
  },
  {
   "cell_type": "code",
   "execution_count": 5,
   "metadata": {},
   "outputs": [
    {
     "data": {
      "text/plain": [
       "30.0"
      ]
     },
     "execution_count": 5,
     "metadata": {},
     "output_type": "execute_result"
    }
   ],
   "source": [
    "#5:14\n",
    "# En population kännetecknas av att den har mu = 900 och sigma = 300. \n",
    "# Om stickprov med n = 100 tas, vad blir väntevärdet och standardavvikelsen för stickprovsmedelvärdet\n",
    "mu = 900\n",
    "sigma = 300\n",
    "n = 100\n",
    "\n",
    "\n",
    "E = mu # E(X) = 900\n",
    "s = (sigma / np.sqrt(n)) # S(X) = 30\n",
    "s\n"
   ]
  },
  {
   "cell_type": "code",
   "execution_count": 6,
   "metadata": {},
   "outputs": [
    {
     "data": {
      "text/plain": [
       "0.9772"
      ]
     },
     "execution_count": 6,
     "metadata": {},
     "output_type": "execute_result"
    }
   ],
   "source": [
    "# 5:15\n",
    "x = 840\n",
    "Z = (x - mu)/(sigma / np.sqrt(n))\n",
    "Z # -2\n",
    "P = 1 - 0.0228\n",
    "P"
   ]
  },
  {
   "cell_type": "code",
   "execution_count": 7,
   "metadata": {},
   "outputs": [],
   "source": [
    "# 5:16\n",
    "#En Population kännetäcknas av\n",
    "mu = 85 # och\n",
    "sigma = 40 # Om stickprov med \n",
    "n = 300 #tas vad blir väntevärdet och standardavvikelsen för stickprovsmedelvärdet.\n",
    "E = mu # E(X) = mu = 85\n",
    "s = sigma/np.sqrt(n) #S(X) = 2.3094\n"
   ]
  },
  {
   "cell_type": "code",
   "execution_count": 8,
   "metadata": {},
   "outputs": [],
   "source": [
    "# 5:17\n",
    "#Vad är sannolikheten att stickprovsmedelvärdet blir högst 82\n",
    "x = 82\n",
    "Z = (x - mu)/(sigma/np.sqrt(n))\n",
    "Z # = -1.29903\n",
    "# P(Z < -1.30)\n",
    "p = 0.0968"
   ]
  },
  {
   "cell_type": "code",
   "execution_count": 9,
   "metadata": {},
   "outputs": [
    {
     "name": "stdout",
     "output_type": "stream",
     "text": [
      "S(phatt) = 0.0552\n",
      "E(phatt) = p = 0.42\n"
     ]
    }
   ],
   "source": [
    "# 5:18 \n",
    "p = 0.42 # värdet i tabellen\n",
    "n = 80 #storleken på stickprovet.\n",
    "# Vad blir väntevärde och standardavvoleösem fär stickprovsproportionen p^\n",
    "print(f\"S(phatt) = {round(np.sqrt(p*(1-p)/n),4)}\") # Skriv upp i formelsamling.\n",
    "print(f\"E(phatt) = p = {p}\")\n",
    "\n",
    "#"
   ]
  },
  {
   "cell_type": "code",
   "execution_count": 10,
   "metadata": {},
   "outputs": [
    {
     "name": "stdout",
     "output_type": "stream",
     "text": [
      "P(0.35 > phatt)-7.531960159916853\n",
      "-1.2685406585123122 z = 0.1020\n"
     ]
    }
   ],
   "source": [
    "# 5:19\n",
    "# Vad är sannolikheten att stickprovsproportionen blir högst 0.35\n",
    "X = 0.35\n",
    "mu = p \n",
    "sigma = np.sqrt(p*(1-p)/n)\n",
    "phatt = 0.35/n\n",
    "print(f\"P(0.35 > phatt){(phatt - p) /((np.sqrt(p*(1-p)/n)))}\") # wrong\n",
    "print(f\"{(X - mu)/(sigma)} z = 0.1020\") # We wanted Z to get the probability. So thats why we only divide with sigma. \"Standard z-value\"\n",
    "\n"
   ]
  },
  {
   "cell_type": "code",
   "execution_count": 11,
   "metadata": {},
   "outputs": [
    {
     "name": "stdout",
     "output_type": "stream",
     "text": [
      "N~(X) = N~(240, 4.0)\n"
     ]
    }
   ],
   "source": [
    "# 5:7 med klassen\n",
    "n = 64\n",
    "mu = 240\n",
    "sigma = 32\n",
    "Ex = mu\n",
    "s = sigma/np.sqrt(n) #medelfel\n",
    "print(f\"N~(X) = N~({Ex}, {s})\")"
   ]
  }
 ],
 "metadata": {
  "kernelspec": {
   "display_name": "Statistical_Analysis_Alexander_Andersson-o_9eJxXu",
   "language": "python",
   "name": "python3"
  },
  "language_info": {
   "codemirror_mode": {
    "name": "ipython",
    "version": 3
   },
   "file_extension": ".py",
   "mimetype": "text/x-python",
   "name": "python",
   "nbconvert_exporter": "python",
   "pygments_lexer": "ipython3",
   "version": "3.9.13"
  },
  "orig_nbformat": 4,
  "vscode": {
   "interpreter": {
    "hash": "055f1f656af37816921c1ffffa019836b4b9e37f2b696235696b50fe72134004"
   }
  }
 },
 "nbformat": 4,
 "nbformat_minor": 2
}
