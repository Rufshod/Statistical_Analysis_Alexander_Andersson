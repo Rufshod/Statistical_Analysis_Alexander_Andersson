{
 "cells": [
  {
   "cell_type": "code",
   "execution_count": 101,
   "metadata": {},
   "outputs": [],
   "source": [
    "import numpy as np\n",
    "from math import factorial as fa\n",
    "from math import e as e"
   ]
  },
  {
   "cell_type": "code",
   "execution_count": 102,
   "metadata": {},
   "outputs": [],
   "source": [
    "#  4:2\n",
    "#P(Z < -0.55) = 0.2912\n",
    "#Checking the table...\n",
    "#Correct. -0.55 is equal to 0.2912\n"
   ]
  },
  {
   "attachments": {},
   "cell_type": "markdown",
   "metadata": {},
   "source": [
    "# 4:3\n",
    "---\n",
    "reasoning used in this upcoming excercises\n",
    "$P(Z \\geq 1.41)$\n",
    "$P(Z \\leq 1.41) = 0.9207$\n",
    "values will be read from a pre-existing table of values\n"
   ]
  },
  {
   "attachments": {},
   "cell_type": "markdown",
   "metadata": {},
   "source": []
  },
  {
   "cell_type": "code",
   "execution_count": 103,
   "metadata": {},
   "outputs": [
    {
     "name": "stdout",
     "output_type": "stream",
     "text": [
      "Answer =  0.07930000000000004\n"
     ]
    }
   ],
   "source": [
    "PZ_lesser_then_141 = 0.9207\n",
    "PZ_greater_then_141 = 1 - PZ_lesser_then_141\n",
    "\n",
    "print(f\"Answer = \",  PZ_greater_then_141)"
   ]
  },
  {
   "attachments": {},
   "cell_type": "markdown",
   "metadata": {},
   "source": [
    "# 4:4\n",
    "___\n",
    "\n",
    "$P(Z \\le 0.87) = 0.8078$\n"
   ]
  },
  {
   "attachments": {},
   "cell_type": "markdown",
   "metadata": {},
   "source": [
    "# 4:5\n",
    "___\n",
    "$P(Z \\geq -1.23)$\n",
    "$P(Z \\leq -1.23) = 0.1020$"
   ]
  },
  {
   "cell_type": "code",
   "execution_count": 104,
   "metadata": {},
   "outputs": [
    {
     "name": "stdout",
     "output_type": "stream",
     "text": [
      "Answer =  0.898\n"
     ]
    }
   ],
   "source": [
    "PZ_lesser_then_123 = 0.1020\n",
    "PZ_greater_then_123 = 1 - PZ_lesser_then_123\n",
    "\n",
    "print(f\"Answer = \",  PZ_greater_then_123)"
   ]
  },
  {
   "cell_type": "code",
   "execution_count": 105,
   "metadata": {},
   "outputs": [
    {
     "data": {
      "text/plain": [
       "0.5108"
      ]
     },
     "execution_count": 105,
     "metadata": {},
     "output_type": "execute_result"
    }
   ],
   "source": [
    "# 4:6\n",
    "pz_lt_018 = 0.4286\n",
    "pz_lt_155 = 0.9394\n",
    "#answer\n",
    "pz_lt_155 - pz_lt_018 # take the greater number/area and subtract with the smaller number/area"
   ]
  },
  {
   "cell_type": "code",
   "execution_count": 106,
   "metadata": {},
   "outputs": [
    {
     "data": {
      "text/plain": [
       "0.03850000000000009"
      ]
     },
     "execution_count": 106,
     "metadata": {},
     "output_type": "execute_result"
    }
   ],
   "source": [
    "# 4:7\n",
    "pz_lt_1_46 = 0.9279\n",
    "pz_lt_1_83 = 0.9664\n",
    "#answer\n",
    "pz_lt_1_83 - pz_lt_1_46"
   ]
  },
  {
   "cell_type": "code",
   "execution_count": 107,
   "metadata": {},
   "outputs": [
    {
     "data": {
      "text/plain": [
       "0.11670000000000003"
      ]
     },
     "execution_count": 107,
     "metadata": {},
     "output_type": "execute_result"
    }
   ],
   "source": [
    "# 4:8 \n",
    "pz_lt_m065 = 0.2578\n",
    "pz_lt_m032 = 0.3745\n",
    "\n",
    "pz_lt_m032 - pz_lt_m065"
   ]
  },
  {
   "cell_type": "code",
   "execution_count": 108,
   "metadata": {},
   "outputs": [],
   "source": [
    "# 4:9\n",
    "# Zero is in the middle of the std table and is symmetrical. The chance of something being above 0 is 50% or 0.5"
   ]
  },
  {
   "cell_type": "code",
   "execution_count": 109,
   "metadata": {},
   "outputs": [],
   "source": [
    "# 4:10\n",
    "# still 50% or 0.5. Because after 3.9 the chance is so small it does not matter when we go from 3.9 and above. "
   ]
  },
  {
   "cell_type": "code",
   "execution_count": 110,
   "metadata": {},
   "outputs": [],
   "source": [
    "# 4:11\n",
    "# 0% efter 3.9 is so small is infinitly small. or 0.000000001. one in a a billion."
   ]
  },
  {
   "cell_type": "code",
   "execution_count": 111,
   "metadata": {},
   "outputs": [],
   "source": [
    "# 4:12\n",
    "# P(Z > z) where z is  = 0.4\n",
    "z = -0.25\n",
    "# in answer its 0.25 not -0.25... why?\n"
   ]
  },
  {
   "attachments": {},
   "cell_type": "markdown",
   "metadata": {},
   "source": [
    "# 4:34\n",
    "hypergeometriskfördelning, sida 126, 122(längst ner) kontinutest korrigering\n",
    "- 360 bilar\n",
    "- 90 defekta\n",
    "- stickprov 75\n",
    "- kommer att reklameras om det är fler än 15 defekta bilar\n",
    "- hur sannolikt är det att det reklameras."
   ]
  },
  {
   "cell_type": "code",
   "execution_count": 112,
   "metadata": {},
   "outputs": [
    {
     "name": "stdout",
     "output_type": "stream",
     "text": [
      "E(X) = 18.75\n",
      "V(X) = 11.1638\n",
      "S(X) = 3.3412\n",
      "-0.9726954570890702\n",
      "0.834\n"
     ]
    }
   ],
   "source": [
    "# X~HG(75, 90, 360)\n",
    "# P(X > 15)\n",
    "\n",
    "n = 75\n",
    "R = 90\n",
    "N = 360\n",
    "\n",
    "#Väntevärde\n",
    "expn = n*(R/N)\n",
    "\n",
    "# Varians\n",
    "v = n*(R/N)*((1 -(R/N))*(N-n)/(N-1))\n",
    "\n",
    "# Standardavvikelse\n",
    "s = np.sqrt(n*(R/N)*((1 -(R/N))*(N-n)/(N-1)))\n",
    "\n",
    "# \n",
    "def p(x):\n",
    "    binom_Rx = fa(R) / (fa(x) * (fa(R-x)))\n",
    "    binom_NRnx = fa(N-R) / (fa(n-x) * fa((N-R)-(n-x)))\n",
    "    binom_Nn = fa(N) / (fa(n) * (fa(N-n)))  \n",
    "    return binom_Rx * binom_NRnx / binom_Nn\n",
    "\n",
    "print(f\"E(X) = {expn}\")\n",
    "print(f\"V(X) = {round(v,4)}\") # Är större än 10. så vi får använda \n",
    "print(f\"S(X) = {round(s,4)}\")\n",
    "\n",
    "p(16)\n",
    "\n",
    "print((15.5 - expn) / s)  # Formel för att få \n",
    "print(1 - 0.1660)"
   ]
  },
  {
   "attachments": {},
   "cell_type": "markdown",
   "metadata": {},
   "source": [
    "# 4.36\n",
    "- sida 100\n",
    "- Anta att X~EXP(0.86). Beräkna \n",
    "- a) P( X < 1.5)\n",
    "- b) P( X > 1)\n",
    "- c) P(0.5 < X < 0.8)"
   ]
  },
  {
   "cell_type": "code",
   "execution_count": 115,
   "metadata": {},
   "outputs": [
    {
     "name": "stdout",
     "output_type": "stream",
     "text": [
      "a ) = 0.8252128002665695\n",
      "b ) = 0.3126125553060687\n",
      "c ) = 0.1646556934745126\n"
     ]
    }
   ],
   "source": [
    "mu = 0.86\n",
    "\n",
    "# a )\n",
    "x = 1.5\n",
    "fa = (1 - e ** (-x/mu))\n",
    "\n",
    "print(f\"a ) = {fa}\")\n",
    "\n",
    "# b )\n",
    "x = 1\n",
    "fb = (e ** (-x/mu))\n",
    "\n",
    "print(f\"b ) = {fb}\")\n",
    "\n",
    "\n",
    "# c )\n",
    "xl = 0.5\n",
    "xg = 0.8\n",
    "\n",
    "fcl = (1 - e ** -(xl/mu)) \n",
    "fcg = (1 - e ** -(xg/mu)) \n",
    "\n",
    "print(f\"c ) = {fcg - fcl}\")\n"
   ]
  },
  {
   "cell_type": "markdown",
   "metadata": {},
   "source": []
  }
 ],
 "metadata": {
  "kernelspec": {
   "display_name": "Statistical_Analysis_Alexander_Andersson-IabUt-VZ",
   "language": "python",
   "name": "python3"
  },
  "language_info": {
   "codemirror_mode": {
    "name": "ipython",
    "version": 3
   },
   "file_extension": ".py",
   "mimetype": "text/x-python",
   "name": "python",
   "nbconvert_exporter": "python",
   "pygments_lexer": "ipython3",
   "version": "3.9.13"
  },
  "orig_nbformat": 4,
  "vscode": {
   "interpreter": {
    "hash": "0a5449485d52d0dbc49e2e3ace10673241792dd720c3ee3e454038992c7d9c2b"
   }
  }
 },
 "nbformat": 4,
 "nbformat_minor": 2
}
