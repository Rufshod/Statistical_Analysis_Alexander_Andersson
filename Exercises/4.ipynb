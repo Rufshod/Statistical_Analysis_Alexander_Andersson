{
 "cells": [
  {
   "cell_type": "code",
   "execution_count": 101,
   "metadata": {},
   "outputs": [],
   "source": [
    "import numpy as np\n",
    "from math import factorial as fa\n",
    "from math import e as e"
   ]
  },
  {
   "cell_type": "code",
   "execution_count": 102,
   "metadata": {},
   "outputs": [],
   "source": [
    "#  4:2\n",
    "#P(Z < -0.55) = 0.2912\n",
    "#Checking the table...\n",
    "#Correct. -0.55 is equal to 0.2912\n"
   ]
  },
  {
   "attachments": {},
   "cell_type": "markdown",
   "metadata": {},
   "source": [
    "# 4:3\n",
    "---\n",
    "reasoning used in this upcoming excercises\n",
    "$P(Z \\geq 1.41)$\n",
    "$P(Z \\leq 1.41) = 0.9207$\n",
    "values will be read from a pre-existing table of values\n"
   ]
  },
  {
   "attachments": {},
   "cell_type": "markdown",
   "metadata": {},
   "source": []
  },
  {
   "cell_type": "code",
   "execution_count": 103,
   "metadata": {},
   "outputs": [
    {
     "name": "stdout",
     "output_type": "stream",
     "text": [
      "Answer =  0.07930000000000004\n"
     ]
    }
   ],
   "source": [
    "PZ_lesser_then_141 = 0.9207\n",
    "PZ_greater_then_141 = 1 - PZ_lesser_then_141\n",
    "\n",
    "print(f\"Answer = \",  PZ_greater_then_141)"
   ]
  },
  {
   "attachments": {},
   "cell_type": "markdown",
   "metadata": {},
   "source": [
    "# 4:4\n",
    "___\n",
    "\n",
    "$P(Z \\le 0.87) = 0.8078$\n"
   ]
  },
  {
   "attachments": {},
   "cell_type": "markdown",
   "metadata": {},
   "source": [
    "# 4:5\n",
    "___\n",
    "$P(Z \\geq -1.23)$\n",
    "$P(Z \\leq -1.23) = 0.1020$"
   ]
  },
  {
   "cell_type": "code",
   "execution_count": 104,
   "metadata": {},
   "outputs": [
    {
     "name": "stdout",
     "output_type": "stream",
     "text": [
      "Answer =  0.898\n"
     ]
    }
   ],
   "source": [
    "PZ_lesser_then_123 = 0.1020\n",
    "PZ_greater_then_123 = 1 - PZ_lesser_then_123\n",
    "\n",
    "print(f\"Answer = \",  PZ_greater_then_123)"
   ]
  },
  {
   "cell_type": "code",
   "execution_count": 105,
   "metadata": {},
   "outputs": [
    {
     "data": {
      "text/plain": [
       "0.5108"
      ]
     },
     "execution_count": 105,
     "metadata": {},
     "output_type": "execute_result"
    }
   ],
   "source": [
    "# 4:6\n",
    "pz_lt_018 = 0.4286\n",
    "pz_lt_155 = 0.9394\n",
    "#answer\n",
    "pz_lt_155 - pz_lt_018 # take the greater number/area and subtract with the smaller number/area"
   ]
  },
  {
   "cell_type": "code",
   "execution_count": 106,
   "metadata": {},
   "outputs": [
    {
     "data": {
      "text/plain": [
       "0.03850000000000009"
      ]
     },
     "execution_count": 106,
     "metadata": {},
     "output_type": "execute_result"
    }
   ],
   "source": [
    "# 4:7\n",
    "pz_lt_1_46 = 0.9279\n",
    "pz_lt_1_83 = 0.9664\n",
    "#answer\n",
    "pz_lt_1_83 - pz_lt_1_46"
   ]
  },
  {
   "cell_type": "code",
   "execution_count": 107,
   "metadata": {},
   "outputs": [
    {
     "data": {
      "text/plain": [
       "0.11670000000000003"
      ]
     },
     "execution_count": 107,
     "metadata": {},
     "output_type": "execute_result"
    }
   ],
   "source": [
    "# 4:8 \n",
    "pz_lt_m065 = 0.2578\n",
    "pz_lt_m032 = 0.3745\n",
    "\n",
    "pz_lt_m032 - pz_lt_m065"
   ]
  },
  {
   "cell_type": "code",
   "execution_count": 108,
   "metadata": {},
   "outputs": [],
   "source": [
    "# 4:9\n",
    "# Zero is in the middle of the std table and is symmetrical. The chance of something being above 0 is 50% or 0.5"
   ]
  },
  {
   "cell_type": "code",
   "execution_count": 109,
   "metadata": {},
   "outputs": [],
   "source": [
    "# 4:10\n",
    "# still 50% or 0.5. Because after 3.9 the chance is so small it does not matter when we go from 3.9 and above. "
   ]
  },
  {
   "cell_type": "code",
   "execution_count": 110,
   "metadata": {},
   "outputs": [],
   "source": [
    "# 4:11\n",
    "# 0% efter 3.9 is so small is infinitly small. or 0.000000001. one in a a billion."
   ]
  },
  {
   "cell_type": "code",
   "execution_count": 111,
   "metadata": {},
   "outputs": [],
   "source": [
    "# 4:12\n",
    "# P(Z > z) where z is  = 0.4\n",
    "z = -0.25\n",
    "# in answer its 0.25 not -0.25... why?\n"
   ]
  },
  {
   "cell_type": "code",
   "execution_count": null,
   "metadata": {},
   "outputs": [],
   "source": [
    "# 4:13\n",
    "# P(Z > z) where z is  = 0.75\n",
    "z = 0.67\n",
    "# in answer sheet -0.67. So it seems to be the reverse of the value we get in the table\n",
    "# No. Please take care of : Z > z = reverse value. Z < z same value as in table.\n"
   ]
  },
  {
   "cell_type": "code",
   "execution_count": null,
   "metadata": {},
   "outputs": [],
   "source": [
    "# 4:14\n",
    "# P(Z < z) where z is  = 0.07\n",
    "z = -1.48\n"
   ]
  },
  {
   "cell_type": "code",
   "execution_count": null,
   "metadata": {},
   "outputs": [],
   "source": [
    "# 4:15 \n",
    "# P(Z < z) where z is  = 0.86\n",
    "z = 1.08\n"
   ]
  },
  {
   "cell_type": "code",
   "execution_count": null,
   "metadata": {},
   "outputs": [],
   "source": [
    "# 4:16\n",
    "# P(Z > z) where z is  = 0.99\n",
    "z = -2.33\n"
   ]
  },
  {
   "cell_type": "code",
   "execution_count": 22,
   "metadata": {},
   "outputs": [
    {
     "data": {
      "text/plain": [
       "-0.29000000000000004"
      ]
     },
     "execution_count": 22,
     "metadata": {},
     "output_type": "execute_result"
    }
   ],
   "source": [
    "# 4:17\n",
    "# P(-z < Z < z) where z is  = 0.57\n",
    "Z = 0.18 \n",
    "#Wrong. I need to find -z and z and then add them. Z is the sum of them \n",
    "Z = 1 - 0.18 + 0.18\n",
    "# Very wrong... \n",
    "# Lets try to do it the correct way.\n",
    "z = 0.79\n",
    "# P(-z < Z < z) = P(Z < z) - P(Z < -z)\n",
    "p = (1 - z - z)/2\n",
    "p\n",
    "# David helped me. I checked the table in the wrong way. we want the propability and not the z value"
   ]
  },
  {
   "cell_type": "code",
   "execution_count": 61,
   "metadata": {},
   "outputs": [
    {
     "data": {
      "text/plain": [
       "6.16"
      ]
     },
     "execution_count": 61,
     "metadata": {},
     "output_type": "execute_result"
    }
   ],
   "source": [
    "# 4:18\n",
    "# P(-z < Z < z) where z is  = 0.99\n",
    "# P(Z < z) - P(Z < -z), P(Z < -z) = 1 - P(Z < z)\n",
    "# P(Z < z) - (1 - P(Z < z)) = 0.99\n",
    "z = 2.58\n",
    "p = 1 - z\n",
    "p/2\n",
    "\n",
    "#I Still dont get it... "
   ]
  },
  {
   "cell_type": "code",
   "execution_count": 6,
   "metadata": {},
   "outputs": [
    {
     "name": "stdout",
     "output_type": "stream",
     "text": [
      "P = 0.2743\n"
     ]
    }
   ],
   "source": [
    "#4:19\n",
    "# X~N(32, 5)\n",
    "# Z = (X - mu) / sigma\n",
    "X = 35\n",
    "mu = 32\n",
    "sigma = 5\n",
    "Z = (X-mu)/sigma\n",
    "Z # = 0.6\n",
    "P = 0.7257\n",
    "print(f\"P = {1-P}\")\n"
   ]
  },
  {
   "cell_type": "code",
   "execution_count": 9,
   "metadata": {},
   "outputs": [
    {
     "name": "stdout",
     "output_type": "stream",
     "text": [
      "P = 0.9896\n"
     ]
    }
   ],
   "source": [
    "# 4:20 \n",
    "X = 19\n",
    "mu = 16\n",
    "sigma = 1.3\n",
    "Z = (X-mu)/sigma\n",
    "Z # = 2.30769\n",
    "P = 0.9896\n",
    "print(f\"P = {P}\")"
   ]
  },
  {
   "cell_type": "code",
   "execution_count": 12,
   "metadata": {},
   "outputs": [
    {
     "name": "stdout",
     "output_type": "stream",
     "text": [
      "P = 0.2709\n"
     ]
    }
   ],
   "source": [
    "# 4:21\n",
    "X = 163\n",
    "mu = 185\n",
    "sigma = 36\n",
    "Z = (X-mu)/sigma\n",
    "Z = -0.61\n",
    "P = 0.2709\n",
    "print(f\"P = {P}\")"
   ]
  },
  {
   "cell_type": "code",
   "execution_count": 39,
   "metadata": {},
   "outputs": [
    {
     "name": "stdout",
     "output_type": "stream",
     "text": [
      "1.0 < Z < 1.3333333333333333\n"
     ]
    },
    {
     "data": {
      "text/plain": [
       "-0.6898000000000001"
      ]
     },
     "execution_count": 39,
     "metadata": {},
     "output_type": "execute_result"
    }
   ],
   "source": [
    "# 4:22\n",
    "X = 0\n",
    "mu1 = 3\n",
    "mu2 = 4\n",
    "sigma = 3\n",
    "Z1 = (mu1-X)/sigma\n",
    "Z2 = (mu2-X)/sigma\n",
    "print(Z1, \"< Z <\", Z2)\n",
    "Z11 = 0.8413\n",
    "Z22 = 0.8485\n",
    "P = 1 - Z11 - Z22\n",
    "P\n",
    "#Wrong but close. Got the wrong value in the z tabel. i took 1.03... not 1.3"
   ]
  },
  {
   "cell_type": "code",
   "execution_count": 57,
   "metadata": {},
   "outputs": [
    {
     "data": {
      "text/plain": [
       "0.06689999999999996"
      ]
     },
     "execution_count": 57,
     "metadata": {},
     "output_type": "execute_result"
    }
   ],
   "source": [
    "#4:22 together with classmates.\n",
    "X3 = 3 # is X 3 or 4?\n",
    "X4 = 4\n",
    "mu = 0\n",
    "sigma = 3\n",
    "a = (X3-mu)/sigma\n",
    "b = (X4-mu)/sigma\n",
    "a, b\n",
    "zl, zg = 0.8413, 0.9082\n",
    "zg - zl"
   ]
  },
  {
   "cell_type": "code",
   "execution_count": 65,
   "metadata": {},
   "outputs": [
    {
     "data": {
      "text/plain": [
       "0.6316"
      ]
     },
     "execution_count": 65,
     "metadata": {},
     "output_type": "execute_result"
    }
   ],
   "source": [
    "#4:23\n",
    "X1 = 500\n",
    "X2 = 650\n",
    "mu = 596\n",
    "sigma = 81\n",
    "\n",
    "a = (X1 - mu)/sigma\n",
    "b = (X2 - mu)/sigma\n",
    "a, b\n",
    "zl , zg = 0.1170 , 0.7486\n",
    "zg - zl"
   ]
  },
  {
   "attachments": {},
   "cell_type": "markdown",
   "metadata": {},
   "source": [
    "# 4:34\n",
    "hypergeometriskfördelning, sida 126, 122(längst ner) kontinutest korrigering\n",
    "- 360 bilar\n",
    "- 90 defekta\n",
    "- stickprov 75\n",
    "- kommer att reklameras om det är fler än 15 defekta bilar\n",
    "- hur sannolikt är det att det reklameras."
   ]
  },
  {
   "cell_type": "code",
   "execution_count": 112,
   "metadata": {},
   "outputs": [
    {
     "name": "stdout",
     "output_type": "stream",
     "text": [
      "E(X) = 18.75\n",
      "V(X) = 11.1638\n",
      "S(X) = 3.3412\n",
      "-0.9726954570890702\n",
      "0.834\n"
     ]
    }
   ],
   "source": [
    "# X~HG(75, 90, 360)\n",
    "# P(X > 15)\n",
    "\n",
    "n = 75\n",
    "R = 90\n",
    "N = 360\n",
    "\n",
    "#Väntevärde\n",
    "expn = n*(R/N)\n",
    "\n",
    "# Varians\n",
    "v = n*(R/N)*((1 -(R/N))*(N-n)/(N-1))\n",
    "\n",
    "# Standardavvikelse\n",
    "s = np.sqrt(n*(R/N)*((1 -(R/N))*(N-n)/(N-1)))\n",
    "\n",
    "# \n",
    "def p(x):\n",
    "    binom_Rx = fa(R) / (fa(x) * (fa(R-x)))\n",
    "    binom_NRnx = fa(N-R) / (fa(n-x) * fa((N-R)-(n-x)))\n",
    "    binom_Nn = fa(N) / (fa(n) * (fa(N-n)))  \n",
    "    return binom_Rx * binom_NRnx / binom_Nn\n",
    "\n",
    "print(f\"E(X) = {expn}\")\n",
    "print(f\"V(X) = {round(v,4)}\") # Är större än 10. så vi får använda \n",
    "print(f\"S(X) = {round(s,4)}\")\n",
    "\n",
    "p(16)\n",
    "\n",
    "print((15.5 - expn) / s)  # Formel för att få \n",
    "print(1 - 0.1660)"
   ]
  },
  {
   "attachments": {},
   "cell_type": "markdown",
   "metadata": {},
   "source": [
    "# 4.36\n",
    "- sida 100\n",
    "- Anta att X~EXP(0.86). Beräkna \n",
    "- a) P( X < 1.5)\n",
    "- b) P( X > 1)\n",
    "- c) P(0.5 < X < 0.8)"
   ]
  },
  {
   "cell_type": "code",
   "execution_count": 115,
   "metadata": {},
   "outputs": [
    {
     "name": "stdout",
     "output_type": "stream",
     "text": [
      "a ) = 0.8252128002665695\n",
      "b ) = 0.3126125553060687\n",
      "c ) = 0.1646556934745126\n"
     ]
    }
   ],
   "source": [
    "mu = 0.86\n",
    "\n",
    "# a )\n",
    "x = 1.5\n",
    "fa = (1 - e ** (-x/mu))\n",
    "\n",
    "print(f\"a ) = {fa}\")\n",
    "\n",
    "# b )\n",
    "x = 1\n",
    "fb = (e ** (-x/mu))\n",
    "\n",
    "print(f\"b ) = {fb}\")\n",
    "\n",
    "\n",
    "# c )\n",
    "xl = 0.5\n",
    "xg = 0.8\n",
    "\n",
    "fcl = (1 - e ** -(xl/mu)) \n",
    "fcg = (1 - e ** -(xg/mu)) \n",
    "\n",
    "print(f\"c ) = {fcg - fcl}\")\n"
   ]
  },
  {
   "cell_type": "markdown",
   "metadata": {},
   "source": []
  }
 ],
 "metadata": {
  "kernelspec": {
   "display_name": "Python 3",
   "language": "python",
   "name": "python3"
  },
  "language_info": {
   "codemirror_mode": {
    "name": "ipython",
    "version": 3
   },
   "file_extension": ".py",
   "mimetype": "text/x-python",
   "name": "python",
   "nbconvert_exporter": "python",
   "pygments_lexer": "ipython3",
   "version": "3.9.13"
  },
  "orig_nbformat": 4,
  "vscode": {
   "interpreter": {
    "hash": "287876418b1177767fd3ee26a082a634abf206aa424861d57cf76d9abc857edd"
   }
  }
 },
 "nbformat": 4,
 "nbformat_minor": 2
}
