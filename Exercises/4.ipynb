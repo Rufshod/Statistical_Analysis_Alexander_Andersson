{
 "cells": [
  {
   "cell_type": "code",
   "execution_count": 9,
   "metadata": {},
   "outputs": [],
   "source": [
    "#  4:2\n",
    "#P(Z < -0.55) = 0.2912\n",
    "#Checking the table...\n",
    "#Correct. -0.55 is equal to 0.2912\n"
   ]
  },
  {
   "attachments": {},
   "cell_type": "markdown",
   "metadata": {},
   "source": [
    "# 4:3\n",
    "---\n",
    "reasoning used in this upcoming excercises\n",
    "$P(Z \\geq 1.41)$\n",
    "$P(Z \\leq 1.41) = 0.9207$\n",
    "values will be read from a pre-existing table of values\n"
   ]
  },
  {
   "attachments": {},
   "cell_type": "markdown",
   "metadata": {},
   "source": []
  },
  {
   "cell_type": "code",
   "execution_count": 10,
   "metadata": {},
   "outputs": [
    {
     "name": "stdout",
     "output_type": "stream",
     "text": [
      "Answer =  0.07930000000000004\n"
     ]
    }
   ],
   "source": [
    "PZ_lesser_then_141 = 0.9207\n",
    "PZ_greater_then_141 = 1 - PZ_lesser_then_141\n",
    "\n",
    "print(f\"Answer = \",  PZ_greater_then_141)"
   ]
  },
  {
   "attachments": {},
   "cell_type": "markdown",
   "metadata": {},
   "source": [
    "# 4:4\n",
    "___\n",
    "\n",
    "$P(Z \\le 0.87) = 0.8078$\n"
   ]
  },
  {
   "attachments": {},
   "cell_type": "markdown",
   "metadata": {},
   "source": [
    "# 4:5\n",
    "___\n",
    "$P(Z \\geq -1.23)$\n",
    "$P(Z \\leq -1.23) = 0.1020$"
   ]
  },
  {
   "cell_type": "code",
   "execution_count": 11,
   "metadata": {},
   "outputs": [
    {
     "name": "stdout",
     "output_type": "stream",
     "text": [
      "Answer =  0.898\n"
     ]
    }
   ],
   "source": [
    "PZ_lesser_then_123 = 0.1020\n",
    "PZ_greater_then_123 = 1 - PZ_lesser_then_123\n",
    "\n",
    "print(f\"Answer = \",  PZ_greater_then_123)"
   ]
  },
  {
   "cell_type": "code",
   "execution_count": 12,
   "metadata": {},
   "outputs": [
    {
     "data": {
      "text/plain": [
       "0.5108"
      ]
     },
     "execution_count": 12,
     "metadata": {},
     "output_type": "execute_result"
    }
   ],
   "source": [
    "# 4:6\n",
    "pz_lt_018 = 0.4286\n",
    "pz_lt_155 = 0.9394\n",
    "#answer\n",
    "pz_lt_155 - pz_lt_018 # take the greater number/area and subtract with the smaller number/area"
   ]
  },
  {
   "cell_type": "code",
   "execution_count": 13,
   "metadata": {},
   "outputs": [
    {
     "data": {
      "text/plain": [
       "0.03850000000000009"
      ]
     },
     "execution_count": 13,
     "metadata": {},
     "output_type": "execute_result"
    }
   ],
   "source": [
    "# 4:7\n",
    "pz_lt_1_46 = 0.9279\n",
    "pz_lt_1_83 = 0.9664\n",
    "#answer\n",
    "pz_lt_1_83 - pz_lt_1_46"
   ]
  },
  {
   "cell_type": "code",
   "execution_count": 17,
   "metadata": {},
   "outputs": [
    {
     "data": {
      "text/plain": [
       "0.11670000000000003"
      ]
     },
     "execution_count": 17,
     "metadata": {},
     "output_type": "execute_result"
    }
   ],
   "source": [
    "# 4:8 \n",
    "pz_lt_m065 = 0.2578\n",
    "pz_lt_m032 = 0.3745\n",
    "\n",
    "pz_lt_m032 - pz_lt_m065"
   ]
  },
  {
   "cell_type": "code",
   "execution_count": null,
   "metadata": {},
   "outputs": [],
   "source": [
    "# 4:9\n",
    "# Zero is in the middle of the std table and is symmetrical. The chance of something being above 0 is 50% or 0.5"
   ]
  },
  {
   "cell_type": "code",
   "execution_count": null,
   "metadata": {},
   "outputs": [],
   "source": [
    "# 4:10\n",
    "# still 50% or 0.5. Because after 3.9 the chance is so small it does not matter when we go from 3.9 and above. "
   ]
  },
  {
   "cell_type": "code",
   "execution_count": null,
   "metadata": {},
   "outputs": [],
   "source": [
    "# 4:11\n",
    "# 0% efter 3.9 is so small is infinitly small. or 0.000000001. one in a a billion."
   ]
  },
  {
   "cell_type": "code",
   "execution_count": null,
   "metadata": {},
   "outputs": [],
   "source": [
    "# 4:12\n",
    "# P(Z > z) where z is  = 0.4\n",
    "z = -0.25\n",
    "# in answer its 0.25 not -0.25... why?\n"
   ]
  }
 ],
 "metadata": {
  "kernelspec": {
   "display_name": "Statistical_Analysis_Alexander_Andersson-IabUt-VZ",
   "language": "python",
   "name": "python3"
  },
  "language_info": {
   "codemirror_mode": {
    "name": "ipython",
    "version": 3
   },
   "file_extension": ".py",
   "mimetype": "text/x-python",
   "name": "python",
   "nbconvert_exporter": "python",
   "pygments_lexer": "ipython3",
   "version": "3.9.13"
  },
  "orig_nbformat": 4,
  "vscode": {
   "interpreter": {
    "hash": "0a5449485d52d0dbc49e2e3ace10673241792dd720c3ee3e454038992c7d9c2b"
   }
  }
 },
 "nbformat": 4,
 "nbformat_minor": 2
}
