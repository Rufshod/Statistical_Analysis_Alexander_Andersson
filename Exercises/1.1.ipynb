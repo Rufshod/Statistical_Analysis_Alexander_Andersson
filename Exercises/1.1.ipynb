{
 "cells": [
  {
   "attachments": {},
   "cell_type": "markdown",
   "metadata": {},
   "source": [
    "*En datamängd består av värderna [3,6,7,8,5,5,6,5,9,14,13,9] Beräkna datamängdens:*\n"
   ]
  },
  {
   "cell_type": "code",
   "execution_count": 2,
   "metadata": {},
   "outputs": [],
   "source": [
    "import pandas as pd\n",
    "import numpy as np"
   ]
  },
  {
   "cell_type": "code",
   "execution_count": 7,
   "metadata": {},
   "outputs": [
    {
     "data": {
      "text/plain": [
       "1.8708286933869707"
      ]
     },
     "execution_count": 7,
     "metadata": {},
     "output_type": "execute_result"
    }
   ],
   "source": [
    "lst = [3,6,7,8,5,5,6,5,9,14,13,9]\n",
    "pdlst = pd.DataFrame(lst)\n",
    "pdlst.describe()\n",
    "lst2 = [3,7,2,4]\n",
    "np.std(lst2)"
   ]
  },
  {
   "cell_type": "code",
   "execution_count": null,
   "metadata": {},
   "outputs": [
    {
     "name": "stdout",
     "output_type": "stream",
     "text": [
      "Mode of list is 5\n"
     ]
    }
   ],
   "source": [
    "# a) Typvärde\n",
    "lst.count(5)\n",
    "print(f\"Mode of list is 5\")"
   ]
  },
  {
   "cell_type": "code",
   "execution_count": null,
   "metadata": {},
   "outputs": [
    {
     "name": "stdout",
     "output_type": "stream",
     "text": [
      "The median is 7\n"
     ]
    }
   ],
   "source": [
    "# b) Median\n",
    "lst.sort()\n",
    "print(f\"The median is {lst[int(len(lst)/2)]}\")"
   ]
  },
  {
   "cell_type": "code",
   "execution_count": null,
   "metadata": {},
   "outputs": [
    {
     "name": "stdout",
     "output_type": "stream",
     "text": [
      "Arithmetic mean = 7.5\n"
     ]
    }
   ],
   "source": [
    "# c) Medelvärde\n",
    "art_mean = 0\n",
    "for i in range(len(lst)):\n",
    "    art_mean += lst[i]\n",
    "art_mean = art_mean/len(lst)\n",
    "print(f\"Arithmetic mean = {art_mean}\")\n"
   ]
  },
  {
   "cell_type": "code",
   "execution_count": null,
   "metadata": {},
   "outputs": [
    {
     "name": "stdout",
     "output_type": "stream",
     "text": [
      "Varians of list is: 11\n"
     ]
    }
   ],
   "source": [
    "# d) Variationsvidd / Range\n",
    "print(f\"Varians of list is: {lst[-1]-lst[0]}\")"
   ]
  },
  {
   "cell_type": "code",
   "execution_count": null,
   "metadata": {},
   "outputs": [
    {
     "name": "stdout",
     "output_type": "stream",
     "text": [
      "The first quartile is: 5\n"
     ]
    }
   ],
   "source": [
    "# e) First quartile\n",
    "fq = int(len(lst)*0.25)\n",
    "print(f\"The first quartile is: {lst[fq]}\")"
   ]
  },
  {
   "cell_type": "code",
   "execution_count": null,
   "metadata": {},
   "outputs": [
    {
     "name": "stdout",
     "output_type": "stream",
     "text": [
      "The third quartile is: 9\n"
     ]
    }
   ],
   "source": [
    "# f) Third quartile\n",
    "fq = int(len(lst)*0.75)\n",
    "print(f\"The third quartile is: {lst[fq]}\")"
   ]
  },
  {
   "cell_type": "code",
   "execution_count": null,
   "metadata": {},
   "outputs": [
    {
     "name": "stdout",
     "output_type": "stream",
     "text": [
      "The varians of list is: 11.0\n"
     ]
    }
   ],
   "source": [
    "# g) Varians \n",
    "art_mean = sum(lst)/len(lst)\n",
    "varians = 0\n",
    "for i in range(len(lst)):\n",
    "    varians += (lst[i] - art_mean)**2\n",
    "varians = varians/(len(lst)-1)\n",
    "print(f\"The varians of list is: {varians}\")"
   ]
  },
  {
   "attachments": {
    "image.png": {
     "image/png": "[encoded data removed]"
    }
   },
   "cell_type": "markdown",
   "metadata": {},
   "source": [
    "![image.png](attachment:image.png)"
   ]
  },
  {
   "cell_type": "code",
   "execution_count": null,
   "metadata": {},
   "outputs": [
    {
     "name": "stdout",
     "output_type": "stream",
     "text": [
      "3.3166247903554\n"
     ]
    }
   ],
   "source": [
    "# h) Standard diviation\n",
    "s = 0\n",
    "for i in range(len(lst)):\n",
    "    s += (lst[i] - art_mean)**2 # Nominator\n",
    "\n",
    "print(np.sqrt(s/(len(lst)-1))) #square root of sum for every value in list subtracted by list mean to the power of 2. divided på number of elements in list subracted by one. \n",
    "s = np.sqrt(s/(len(lst)-1))\n"
   ]
  },
  {
   "cell_type": "code",
   "execution_count": null,
   "metadata": {},
   "outputs": [
    {
     "name": "stdout",
     "output_type": "stream",
     "text": [
      "[3, 5, 5, 5, 6, 6, 7, 8, 9, 9, 13, 14]\n",
      "MAD = 2.5833333333333335\n"
     ]
    }
   ],
   "source": [
    "# i) Genomsnittlig absolutavvikelse // MAD\n",
    "#Sum of every element in list subtracted by list mean.\n",
    "#divided by number of elements in list\n",
    "nominator = 0\n",
    "denominator = len(lst)\n",
    "print(lst)\n",
    "\n",
    "x_mean = np.mean(lst) #Mean of list\n",
    "for x in range(len(lst)):\n",
    "    nominator += np.absolute(lst[x]-x_mean) # When calculating MAD, we need the ABSOLUTE value of every difference.\n",
    "print(f\"MAD = {nominator/denominator}\")\n",
    "# in excercise the correct answer should be 2.5..."
   ]
  },
  {
   "cell_type": "code",
   "execution_count": null,
   "metadata": {},
   "outputs": [
    {
     "ename": "AttributeError",
     "evalue": "module 'pandas' has no attribute 'mad'",
     "output_type": "error",
     "traceback": [
      "\u001b[1;31m---------------------------------------------------------------------------\u001b[0m",
      "\u001b[1;31mAttributeError\u001b[0m                            Traceback (most recent call last)",
      "Cell \u001b[1;32mIn[29], line 1\u001b[0m\n\u001b[1;32m----> 1\u001b[0m pd\u001b[39m.\u001b[39;49mmad(pdlst)\n",
      "File \u001b[1;32mc:\\Users\\Agam\\.virtualenvs\\Statistical_Analysis_Alexander_Andersson-o_9eJxXu\\lib\\site-packages\\pandas\\__init__.py:264\u001b[0m, in \u001b[0;36m__getattr__\u001b[1;34m(name)\u001b[0m\n\u001b[0;32m    260\u001b[0m     \u001b[39mfrom\u001b[39;00m \u001b[39mpandas\u001b[39;00m\u001b[39m.\u001b[39;00m\u001b[39mcore\u001b[39;00m\u001b[39m.\u001b[39;00m\u001b[39marrays\u001b[39;00m\u001b[39m.\u001b[39;00m\u001b[39msparse\u001b[39;00m \u001b[39mimport\u001b[39;00m SparseArray \u001b[39mas\u001b[39;00m _SparseArray\n\u001b[0;32m    262\u001b[0m     \u001b[39mreturn\u001b[39;00m _SparseArray\n\u001b[1;32m--> 264\u001b[0m \u001b[39mraise\u001b[39;00m \u001b[39mAttributeError\u001b[39;00m(\u001b[39mf\u001b[39m\u001b[39m\"\u001b[39m\u001b[39mmodule \u001b[39m\u001b[39m'\u001b[39m\u001b[39mpandas\u001b[39m\u001b[39m'\u001b[39m\u001b[39m has no attribute \u001b[39m\u001b[39m'\u001b[39m\u001b[39m{\u001b[39;00mname\u001b[39m}\u001b[39;00m\u001b[39m'\u001b[39m\u001b[39m\"\u001b[39m)\n",
      "\u001b[1;31mAttributeError\u001b[0m: module 'pandas' has no attribute 'mad'"
     ]
    }
   ],
   "source": []
  },
  {
   "cell_type": "code",
   "execution_count": null,
   "metadata": {},
   "outputs": [
    {
     "name": "stdout",
     "output_type": "stream",
     "text": [
      "2.4977473886044286\n",
      "2.9260305485160245\n",
      "3.3543137084276204\n",
      "3.7825968683392164\n",
      "3.8751060308801213\n",
      "3.967615193421026\n",
      "3.971041458700319\n",
      "3.974467723979612\n",
      "4.066976886520517\n",
      "4.159486049061422\n",
      "8.719845135800096\n",
      "16.24734995440631\n",
      "0.10909090909090909 ...\n"
     ]
    },
    {
     "data": {
      "text/plain": [
       "1.7724381768443247"
      ]
     },
     "execution_count": 42,
     "metadata": {},
     "output_type": "execute_result"
    }
   ],
   "source": [
    "# j) Skewness, \n",
    "skew = 0\n",
    "x_mean = x_mean #Mean of lst\n",
    "for x in range(len(lst)):\n",
    "    skew += np.absolute((lst[x]-x_mean)/s)**3\n",
    "    print(skew)\n",
    "n = len(lst)\n",
    "m = n/((n-1)*(n-2))\n",
    "print(m, \"...\")\n",
    "skew*m\n",
    "#Kolla lektionen om snedhet.\n",
    "\n"
   ]
  },
  {
   "cell_type": "code",
   "execution_count": null,
   "metadata": {},
   "outputs": [
    {
     "data": {
      "text/plain": [
       "0    0.906029\n",
       "dtype: float64"
      ]
     },
     "execution_count": 30,
     "metadata": {},
     "output_type": "execute_result"
    }
   ],
   "source": [
    "pdlst.skew()"
   ]
  }
 ],
 "metadata": {
  "kernelspec": {
   "display_name": "Statistical_Analysis_Alexander_Andersson-o_9eJxXu",
   "language": "python",
   "name": "python3"
  },
  "language_info": {
   "codemirror_mode": {
    "name": "ipython",
    "version": 3
   },
   "file_extension": ".py",
   "mimetype": "text/x-python",
   "name": "python",
   "nbconvert_exporter": "python",
   "pygments_lexer": "ipython3",
   "version": "3.9.13"
  },
  "orig_nbformat": 4,
  "vscode": {
   "interpreter": {
    "hash": "055f1f656af37816921c1ffffa019836b4b9e37f2b696235696b50fe72134004"
   }
  }
 },
 "nbformat": 4,
 "nbformat_minor": 2
}
